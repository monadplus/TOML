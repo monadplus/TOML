{
 "cells": [
  {
   "cell_type": "markdown",
   "id": "1c3c4a58",
   "metadata": {},
   "source": [
    "# Introduction"
   ]
  },
  {
   "cell_type": "markdown",
   "id": "d654e7ed",
   "metadata": {},
   "source": [
    "## Goal\n",
    "\n",
    "The objective of this project is to calibrate an air pollution sensor in an air pollution monitoring sensor network. We will take the data sampled of one node that accommodates three sensors: a MIC2614 $O_3$ sensor, a temperature sensor and a relative humidity sensor."
   ]
  },
  {
   "cell_type": "code",
   "execution_count": 1,
   "id": "3084e964",
   "metadata": {
    "tags": [
     "remove_cell"
    ]
   },
   "outputs": [],
   "source": [
    "# Uncomment to install packages\n",
    "# !pip3 install numpy --user --upgrade --quiet\n",
    "# !pip3 install pandas --user --upgrade --quiet\n",
    "# !pip3 install scipy --user --upgrade --quiet\n",
    "# !pip3 install statsmodels --user --upgrade --quiet\n",
    "# !pip3 install seaborn --user --upgrade --quiet\n",
    "# !pip3 install matplotlib --user --upgrade --quiet\n",
    "# !pip3 install scikit-learn --user --upgrade --quiet\n",
    "\n",
    "%load_ext autoreload"
   ]
  },
  {
   "cell_type": "code",
   "execution_count": 2,
   "id": "b65a048b",
   "metadata": {
    "tags": [
     "remove_cell"
    ]
   },
   "outputs": [
    {
     "name": "stdout",
     "output_type": "stream",
     "text": [
      "Pandas 1.2.4\n",
      "Seaborn 0.11.1\n",
      "Scikit-learn 0.24.2\n"
     ]
    }
   ],
   "source": [
    "import numpy as np\n",
    "import pandas as pd\n",
    "import matplotlib.pyplot as plt\n",
    "import seaborn as sns\n",
    "import sklearn\n",
    "import statsmodels.api as sm\n",
    "import scipy\n",
    "\n",
    "from time import time, sleep\n",
    "from datetime import timedelta\n",
    "import json\n",
    "\n",
    "from sklearn.neighbors import LocalOutlierFactor\n",
    "from sklearn.preprocessing import StandardScaler, RobustScaler\n",
    "from sklearn.model_selection import train_test_split\n",
    "from sklearn.metrics import mean_absolute_error, \\\n",
    "  mean_squared_error, r2_score\n",
    "from sklearn.model_selection import GridSearchCV\n",
    "\n",
    "# Models\n",
    "from sklearn.linear_model import LinearRegression, Ridge, SGDRegressor\n",
    "from sklearn.neighbors import KNeighborsRegressor\n",
    "from sklearn.ensemble import RandomForestRegressor\n",
    "from sklearn.kernel_ridge import KernelRidge\n",
    "from sklearn.gaussian_process import GaussianProcessRegressor\n",
    "from sklearn.svm import SVR\n",
    "from sklearn.neural_network import MLPRegressor\n",
    " \n",
    "# Colors & Style\n",
    "sns.set_style('whitegrid')\n",
    "colormap = sns.color_palette(\"Blues\", as_cmap=True)\n",
    "\n",
    "%matplotlib inline\n",
    "\n",
    "import warnings \n",
    "warnings.filterwarnings('ignore')\n",
    "\n",
    "random_seed = 42\n",
    "\n",
    "print('Pandas', pd.__version__)\n",
    "print('Seaborn', sns.__version__)\n",
    "print('Scikit-learn', sklearn.__version__)"
   ]
  },
  {
   "cell_type": "markdown",
   "id": "414281bc",
   "metadata": {},
   "source": [
    "## The dataset"
   ]
  },
  {
   "cell_type": "code",
   "execution_count": 3,
   "id": "b3361ae1",
   "metadata": {
    "tags": [
     "remove_cell"
    ]
   },
   "outputs": [],
   "source": [
    "df = pd.read_csv('data.csv', sep=';')"
   ]
  },
  {
   "cell_type": "code",
   "execution_count": 4,
   "id": "adaa957c",
   "metadata": {
    "tags": [
     "remove_cell"
    ]
   },
   "outputs": [
    {
     "data": {
      "text/html": [
       "<div>\n",
       "<style scoped>\n",
       "    .dataframe tbody tr th:only-of-type {\n",
       "        vertical-align: middle;\n",
       "    }\n",
       "\n",
       "    .dataframe tbody tr th {\n",
       "        vertical-align: top;\n",
       "    }\n",
       "\n",
       "    .dataframe thead th {\n",
       "        text-align: right;\n",
       "    }\n",
       "</style>\n",
       "<table border=\"1\" class=\"dataframe\">\n",
       "  <thead>\n",
       "    <tr style=\"text-align: right;\">\n",
       "      <th></th>\n",
       "      <th>date</th>\n",
       "      <th>RefSt</th>\n",
       "      <th>Sensor_O3</th>\n",
       "      <th>Temp</th>\n",
       "      <th>RelHum</th>\n",
       "    </tr>\n",
       "  </thead>\n",
       "  <tbody>\n",
       "    <tr>\n",
       "      <th>0</th>\n",
       "      <td>21/06/2017 7:00</td>\n",
       "      <td>15.0</td>\n",
       "      <td>36.3637</td>\n",
       "      <td>21.77</td>\n",
       "      <td>53.97</td>\n",
       "    </tr>\n",
       "    <tr>\n",
       "      <th>1</th>\n",
       "      <td>21/06/2017 7:30</td>\n",
       "      <td>15.0</td>\n",
       "      <td>34.8593</td>\n",
       "      <td>25.50</td>\n",
       "      <td>42.43</td>\n",
       "    </tr>\n",
       "    <tr>\n",
       "      <th>2</th>\n",
       "      <td>21/06/2017 8:00</td>\n",
       "      <td>19.0</td>\n",
       "      <td>37.3510</td>\n",
       "      <td>27.97</td>\n",
       "      <td>34.93</td>\n",
       "    </tr>\n",
       "    <tr>\n",
       "      <th>3</th>\n",
       "      <td>21/06/2017 8:30</td>\n",
       "      <td>26.0</td>\n",
       "      <td>43.6993</td>\n",
       "      <td>29.41</td>\n",
       "      <td>32.07</td>\n",
       "    </tr>\n",
       "    <tr>\n",
       "      <th>4</th>\n",
       "      <td>21/06/2017 9:00</td>\n",
       "      <td>34.0</td>\n",
       "      <td>53.9600</td>\n",
       "      <td>30.20</td>\n",
       "      <td>30.83</td>\n",
       "    </tr>\n",
       "  </tbody>\n",
       "</table>\n",
       "</div>"
      ],
      "text/plain": [
       "              date  RefSt  Sensor_O3   Temp  RelHum\n",
       "0  21/06/2017 7:00   15.0    36.3637  21.77   53.97\n",
       "1  21/06/2017 7:30   15.0    34.8593  25.50   42.43\n",
       "2  21/06/2017 8:00   19.0    37.3510  27.97   34.93\n",
       "3  21/06/2017 8:30   26.0    43.6993  29.41   32.07\n",
       "4  21/06/2017 9:00   34.0    53.9600  30.20   30.83"
      ]
     },
     "execution_count": 4,
     "metadata": {},
     "output_type": "execute_result"
    }
   ],
   "source": [
    "df.head()"
   ]
  },
  {
   "cell_type": "code",
   "execution_count": 5,
   "id": "39fb27ed",
   "metadata": {
    "tags": [
     "remove_cell"
    ]
   },
   "outputs": [
    {
     "name": "stdout",
     "output_type": "stream",
     "text": [
      "Columns: 5\n",
      "Rows: 1000\n",
      "Columns types:\n",
      "date          object\n",
      "RefSt        float64\n",
      "Sensor_O3    float64\n",
      "Temp         float64\n",
      "RelHum       float64\n",
      "dtype: object\n"
     ]
    }
   ],
   "source": [
    "print(f'Columns: {df.shape[1]}\\nRows: {df.shape[0]}')\n",
    "print('Columns types:')\n",
    "print(df.dtypes)"
   ]
  },
  {
   "cell_type": "markdown",
   "id": "d3b52200",
   "metadata": {},
   "source": [
    "The dataset has $1000$ samples and $5$ columns:\n",
    "\n",
    "- Date: *UTC*\n",
    "- Temperature: °$C$ ($\\mathbb{R}$)\n",
    "- Humidity: $\\%$ ($\\mathbb{R}$)\n",
    "- $O_3$: $K\\Omega$ ($\\mathbb{R}$)\n",
    "- True $O_3$: $\\mu gr/m^3$ ($\\mathbb{R}$)"
   ]
  },
  {
   "cell_type": "code",
   "execution_count": 6,
   "id": "c9a3e7cf",
   "metadata": {
    "tags": [
     "remove_cell"
    ]
   },
   "outputs": [
    {
     "data": {
      "text/plain": [
       "0   2017-01-07 00:00:00\n",
       "1   2017-01-07 00:30:00\n",
       "2   2017-01-07 01:00:00\n",
       "3   2017-01-07 01:30:00\n",
       "4   2017-01-07 02:00:00\n",
       "Name: date, dtype: datetime64[ns]"
      ]
     },
     "execution_count": 6,
     "metadata": {},
     "output_type": "execute_result"
    }
   ],
   "source": [
    "df['date'] = pd.to_datetime(df['date'])\n",
    "df.sort_values(by='date', ascending=True, inplace=True)\n",
    "df.reset_index(drop=True, inplace=True)\n",
    "df['date'][:5]"
   ]
  },
  {
   "cell_type": "code",
   "execution_count": 7,
   "id": "4845627b",
   "metadata": {
    "tags": [
     "remove_cell"
    ]
   },
   "outputs": [
    {
     "data": {
      "text/plain": [
       "Index(['date', 'temperature', 'humidity', 'ozone', 'real_ozone'], dtype='object')"
      ]
     },
     "execution_count": 7,
     "metadata": {},
     "output_type": "execute_result"
    }
   ],
   "source": [
    "new_columns = {\n",
    "    'date': 'date',\n",
    "    'RefSt': 'real_ozone',\n",
    "    'Sensor_O3': 'ozone',\n",
    "    'Temp': 'temperature',\n",
    "    'RelHum': 'humidity'\n",
    "}\n",
    "df.rename(columns=new_columns, inplace=True)\n",
    "new_order = ['date', 'temperature', 'humidity', 'ozone', 'real_ozone']\n",
    "df = df.reindex(columns=new_order)\n",
    "df.columns"
   ]
  },
  {
   "cell_type": "code",
   "execution_count": 8,
   "id": "5e32cb93",
   "metadata": {
    "tags": [
     "remove_input"
    ]
   },
   "outputs": [
    {
     "data": {
      "text/html": [
       "<div>\n",
       "<style scoped>\n",
       "    .dataframe tbody tr th:only-of-type {\n",
       "        vertical-align: middle;\n",
       "    }\n",
       "\n",
       "    .dataframe tbody tr th {\n",
       "        vertical-align: top;\n",
       "    }\n",
       "\n",
       "    .dataframe thead th {\n",
       "        text-align: right;\n",
       "    }\n",
       "</style>\n",
       "<table border=\"1\" class=\"dataframe\">\n",
       "  <thead>\n",
       "    <tr style=\"text-align: right;\">\n",
       "      <th></th>\n",
       "      <th>temperature</th>\n",
       "      <th>humidity</th>\n",
       "      <th>ozone</th>\n",
       "      <th>real_ozone</th>\n",
       "    </tr>\n",
       "  </thead>\n",
       "  <tbody>\n",
       "    <tr>\n",
       "      <th>mean</th>\n",
       "      <td>24.966410</td>\n",
       "      <td>42.018640</td>\n",
       "      <td>234.839993</td>\n",
       "      <td>64.477000</td>\n",
       "    </tr>\n",
       "    <tr>\n",
       "      <th>std</th>\n",
       "      <td>6.443502</td>\n",
       "      <td>14.877965</td>\n",
       "      <td>172.064966</td>\n",
       "      <td>41.950129</td>\n",
       "    </tr>\n",
       "  </tbody>\n",
       "</table>\n",
       "</div>"
      ],
      "text/plain": [
       "      temperature   humidity       ozone  real_ozone\n",
       "mean    24.966410  42.018640  234.839993   64.477000\n",
       "std      6.443502  14.877965  172.064966   41.950129"
      ]
     },
     "execution_count": 8,
     "metadata": {},
     "output_type": "execute_result"
    }
   ],
   "source": [
    "df.describe().loc[['mean','std']]"
   ]
  },
  {
   "cell_type": "markdown",
   "id": "8ca1595c",
   "metadata": {},
   "source": [
    "Before we start with the exploration data analysis (EDA) we need to clean our dataset and deal with the missing values."
   ]
  },
  {
   "cell_type": "code",
   "execution_count": 9,
   "id": "2f99998c",
   "metadata": {
    "tags": [
     "remove_input"
    ]
   },
   "outputs": [],
   "source": [
    "def displayMissingValues():\n",
    "    plt.title('Missing values',fontsize=12, y=-0.2)\n",
    "    ax = sns.heatmap(\n",
    "        pd.DataFrame(df.isna().sum()),\n",
    "        annot=True, \n",
    "        fmt='d', \n",
    "        vmin=0, \n",
    "        vmax=df.shape[0], \n",
    "        cmap=colormap,\n",
    "        yticklabels=['temp.','humidity','ozone','true ozone']\n",
    "    )"
   ]
  },
  {
   "cell_type": "code",
   "execution_count": 10,
   "id": "06006187",
   "metadata": {
    "scrolled": true,
    "tags": [
     "remove_input"
    ]
   },
   "outputs": [
    {
     "data": {
      "image/png": "[encoded data removed]",
      "text/plain": [
       "<Figure size 432x288 with 2 Axes>"
      ]
     },
     "metadata": {},
     "output_type": "display_data"
    }
   ],
   "source": [
    "displayMissingValues()"
   ]
  },
  {
   "cell_type": "markdown",
   "id": "b7df0b69",
   "metadata": {},
   "source": [
    "Lucky, the dataset has already been preprocessed in terms of missing values so we can jump into EDA."
   ]
  },
  {
   "cell_type": "markdown",
   "id": "81f95380",
   "metadata": {},
   "source": [
    "# Part I: Exploratory Data Analysis"
   ]
  },
  {
   "cell_type": "markdown",
   "id": "c341111a",
   "metadata": {},
   "source": [
    "Exploratory data analysis (EDA) is used by data scientists to analyze and investigate data sets and summarize their main characteristics, often employing data visualization methods. It helps determine how best to manipulate data sources to get the answers you need, making it easier for data scientists to discover patterns, spot anomalies, test a hypothesis, or check assumptions."
   ]
  },
  {
   "cell_type": "code",
   "execution_count": 11,
   "id": "b9de0aed",
   "metadata": {
    "tags": [
     "remove_cell"
    ]
   },
   "outputs": [],
   "source": [
    "colorDict = {\n",
    "    'temperature': 'lightcoral',\n",
    "    'humidity': 'cornflowerblue',\n",
    "    'ozone': 'limegreen',\n",
    "    'real_ozone': 'gold',\n",
    "}\n",
    "\n",
    "palette = sns.color_palette(list(colorDict.values()))"
   ]
  },
  {
   "cell_type": "markdown",
   "id": "5f87d671",
   "metadata": {},
   "source": [
    "First, we are going to use a *pair plot*. A pairs plot allows us to see both distribution of single variables and relationships between two variables. Pair plots are a great method to identify trends for follow-up analysis."
   ]
  },
  {
   "cell_type": "code",
   "execution_count": 17,
   "id": "351b4117",
   "metadata": {
    "tags": [
     "remove_input"
    ]
   },
   "outputs": [
    {
     "data": {
      "image/png": "[encoded data removed]",
      "text/plain": [
       "<Figure size 720x720 with 14 Axes>"
      ]
     },
     "metadata": {},
     "output_type": "display_data"
    }
   ],
   "source": [
    "g = sns.pairplot(df, diag_kind='kde', palette=palette, corner=True)\n",
    "_ = g.map_lower(sns.kdeplot, levels=4, color=\".2\")"
   ]
  },
  {
   "cell_type": "markdown",
   "id": "7d12fe63",
   "metadata": {},
   "source": [
    "Then, we are going to use a *box plot* to visualize each different feature and its range. The box plot allow us to easily visualize the standard deviation and the outliers of our data."
   ]
  },
  {
   "cell_type": "code",
   "execution_count": 18,
   "id": "afd96d90",
   "metadata": {
    "tags": [
     "remove_input"
    ]
   },
   "outputs": [
    {
     "data": {
      "image/png": "[encoded data removed]",
      "text/plain": [
       "<Figure size 540x360 with 1 Axes>"
      ]
     },
     "metadata": {},
     "output_type": "display_data"
    }
   ],
   "source": [
    "_ = sns.catplot(data=df, \n",
    "            kind='box', \n",
    "            orient='h', \n",
    "            height=5, \n",
    "            aspect=1.5, \n",
    "            palette=palette)"
   ]
  },
  {
   "cell_type": "markdown",
   "id": "16bc94ef",
   "metadata": {},
   "source": [
    "We can observe in the box plot that the data is clearly not *normalized* so we will scale it during the preprocessing.\n",
    "\n",
    "We also see that $O_3$ and $O_3$(true) have some *outliers*."
   ]
  },
  {
   "cell_type": "markdown",
   "id": "c48f3370",
   "metadata": {},
   "source": [
    "Let's have a look at the distribution of each feature using a *histogram* and the *kernel density estimation*."
   ]
  },
  {
   "cell_type": "code",
   "execution_count": 19,
   "id": "74842f32",
   "metadata": {
    "tags": [
     "remove_cell"
    ]
   },
   "outputs": [],
   "source": [
    "font = {'size': 14, 'weight': 'bold'}\n",
    "\n",
    "def plot_hist_box(df, col, color):\n",
    "    fig, axs= plt.subplots(1,2, gridspec_kw = {'width_ratios': [4, 1]}, figsize = (9,4), sharey=False)\n",
    "    axs[0].set_xlabel(axs[0].get_xlabel(),fontdict=font)\n",
    "    axs[0].set_title('Histogram with KDE')\n",
    "    axs[1].set_title('Boxplot')\n",
    "    hist = sns.histplot(data=df, x=col, kde=True, element='step', fill=True, ax=axs[0], color=color)\n",
    "    _ = sns.boxplot(data=df, y=col, ax=axs[1], color=color)"
   ]
  },
  {
   "cell_type": "code",
   "execution_count": 20,
   "id": "50e56e1d",
   "metadata": {
    "tags": [
     "remove_input"
    ]
   },
   "outputs": [
    {
     "data": {
      "image/png": "[encoded data removed]",
      "text/plain": [
       "<Figure size 648x288 with 2 Axes>"
      ]
     },
     "metadata": {},
     "output_type": "display_data"
    },
    {
     "data": {
      "image/png": "[encoded data removed]",
      "text/plain": [
       "<Figure size 648x288 with 2 Axes>"
      ]
     },
     "metadata": {},
     "output_type": "display_data"
    },
    {
     "data": {
      "image/png": "[encoded data removed]",
      "text/plain": [
       "<Figure size 648x288 with 2 Axes>"
      ]
     },
     "metadata": {},
     "output_type": "display_data"
    },
    {
     "data": {
      "image/png": "[encoded data removed]",
      "text/plain": [
       "<Figure size 648x288 with 2 Axes>"
      ]
     },
     "metadata": {},
     "output_type": "display_data"
    }
   ],
   "source": [
    "for col in df.columns:\n",
    "    if col == 'date':\n",
    "        continue\n",
    "    color = colorDict[col]\n",
    "    plot_hist_box(df, col, color=color)"
   ]
  },
  {
   "cell_type": "markdown",
   "id": "4458350e",
   "metadata": {},
   "source": [
    "All three humidity, $O_3$, and $O_3$(true) are *skewed*. We will need to take this into consideration during the modeling since some of our models will assume that each feature follows a *normal distribution*."
   ]
  },
  {
   "cell_type": "markdown",
   "id": "3d3ccf44",
   "metadata": {},
   "source": [
    "Next, we are going to have a look at the relation between the variables.\n",
    "\n",
    "The scale of *ozone* and *true ozone* are different. The ozone sensor works as a voltage divisor which is represented as a variable resistor ($k\\Omega)$ while the reference $O_3$ is measured in $\\mu gr/m^3$."
   ]
  },
  {
   "cell_type": "code",
   "execution_count": 12,
   "id": "75807963",
   "metadata": {
    "tags": [
     "remove_input"
    ]
   },
   "outputs": [
    {
     "data": {
      "image/png": "[encoded data removed]",
      "text/plain": [
       "<Figure size 432x288 with 1 Axes>"
      ]
     },
     "metadata": {},
     "output_type": "display_data"
    }
   ],
   "source": [
    "axs= df.plot(\n",
    "    x='date', \n",
    "    y=['ozone', 'real_ozone'],\n",
    "    kind='line', \n",
    "    logy=True,\n",
    "    color=['cornflowerblue','lightsteelblue'],\n",
    "    title='Ozone: Approx. vs Real',\n",
    ")"
   ]
  },
  {
   "cell_type": "markdown",
   "id": "308a3e5a",
   "metadata": {},
   "source": [
    "Despite being in different scales, clearly both variables follow the same pattern."
   ]
  },
  {
   "cell_type": "code",
   "execution_count": 13,
   "id": "637ef959",
   "metadata": {
    "tags": [
     "remove_cell"
    ]
   },
   "outputs": [],
   "source": [
    "def standarize(df, columns):\n",
    "    scaler = StandardScaler()\n",
    "    r = df.copy()\n",
    "    r[columns] = scaler.fit_transform(df[columns])\n",
    "    return r\n",
    "\n",
    "def scatter_plot(df, x, y, title, color, ax=None):\n",
    "    _ = df.plot(\n",
    "        x=x, \n",
    "        y=y,\n",
    "        kind='scatter',\n",
    "        title=title,\n",
    "        color=color,\n",
    "        xlabel='Approx. $O_3$',\n",
    "        ylabel='True $O_3$',\n",
    "        ax=ax,\n",
    "        s=5,\n",
    "    )\n",
    "    return None"
   ]
  },
  {
   "cell_type": "markdown",
   "id": "3a834d09",
   "metadata": {},
   "source": [
    "If the MIC2614 $O_3$ sensor was as good as the reference station, we could use it directly with no calibration. But, as we will see in the next plot, the MIC2614 $O_3$ is not enough to predict the real $O_3$: a perfect prediction would lie in the diagonal of the plot which is not the case."
   ]
  },
  {
   "cell_type": "code",
   "execution_count": 14,
   "id": "568d6d54",
   "metadata": {
    "tags": [
     "remove_input"
    ]
   },
   "outputs": [
    {
     "data": {
      "image/png": "[encoded data removed]",
      "text/plain": [
       "<Figure size 576x288 with 2 Axes>"
      ]
     },
     "metadata": {},
     "output_type": "display_data"
    }
   ],
   "source": [
    "fig, axs = plt.subplots(1,2, figsize = (8,4))\n",
    "scatter_plot(df, x='ozone', y='real_ozone', title='Regular', color='blue', ax=axs[0])\n",
    "df_scaled = standarize(df, columns = ['ozone', 'real_ozone'])\n",
    "scatter_plot(df_scaled, x='ozone', y='real_ozone', title='Scaled', color='green', ax=axs[1])    "
   ]
  },
  {
   "cell_type": "markdown",
   "id": "8635da14",
   "metadata": {},
   "source": [
    "Also, the *standarization* does not change the pattern.\n",
    "\n",
    "Now, we plot the temperature and the humidity against the $O_3$ to see if there any pattern."
   ]
  },
  {
   "cell_type": "code",
   "execution_count": 15,
   "id": "a4aa868f",
   "metadata": {
    "tags": [
     "remove_input"
    ]
   },
   "outputs": [
    {
     "data": {
      "image/png": "[encoded data removed]",
      "text/plain": [
       "<Figure size 432x288 with 1 Axes>"
      ]
     },
     "metadata": {},
     "output_type": "display_data"
    }
   ],
   "source": [
    "def scatter_plot(df, x, y, label, color, ax=None):\n",
    "    ax = df.plot(\n",
    "        x=x, \n",
    "        y=y,\n",
    "        kind='scatter',\n",
    "        title='$O_3$ ~ Humidity/Temperature',\n",
    "        color=color,\n",
    "        xlabel='',\n",
    "        ylabel='$O_3$',\n",
    "        ax=ax,\n",
    "        label=label,\n",
    "        legend=True,\n",
    "        s=2,\n",
    "    )\n",
    "    return ax\n",
    "\n",
    "ax = scatter_plot(df, x='temperature', y='ozone', label='Temperature', color='lightcoral')\n",
    "_ = scatter_plot(df, ax=ax, x='humidity', y='ozone', label='Humidity', color='lightskyblue')    "
   ]
  },
  {
   "cell_type": "markdown",
   "id": "3fa0594e",
   "metadata": {},
   "source": [
    "The relation between those variables is the following:\n",
    "\n",
    "- The higher the temperature, the higher the $O_3$.\n",
    "- The lower the humidity, the higher the $O_3$.\n",
    "\n",
    "Let's try to plot the same variables against the reference $O_3$."
   ]
  },
  {
   "cell_type": "code",
   "execution_count": 16,
   "id": "a5fb2529",
   "metadata": {
    "tags": [
     "remove_input"
    ]
   },
   "outputs": [
    {
     "data": {
      "image/png": "[encoded data removed]",
      "text/plain": [
       "<Figure size 432x288 with 1 Axes>"
      ]
     },
     "metadata": {},
     "output_type": "display_data"
    }
   ],
   "source": [
    "def scatter_plot(df, x, y, label, color, ax=None):\n",
    "    ax = df.plot(\n",
    "        x=x, \n",
    "        y=y,\n",
    "        kind='scatter',\n",
    "        title='$O_3$(true) ~ Humidity/Temperature',\n",
    "        color=color,\n",
    "        xlabel='',\n",
    "        ylabel='$O_3$(true)',\n",
    "        ax=ax,\n",
    "        label=label,\n",
    "        legend=True,\n",
    "        s=2,\n",
    "    )\n",
    "    return ax\n",
    "\n",
    "ax = scatter_plot(df, x='temperature', y='real_ozone', label='Temperature', color='lightcoral')\n",
    "_ = scatter_plot(df, ax=ax, x='humidity', y='real_ozone', label='Humidity', color='lightskyblue')    "
   ]
  },
  {
   "cell_type": "markdown",
   "id": "78193ba6",
   "metadata": {},
   "source": [
    "These relations are clear on the correlation plot that we will see next."
   ]
  },
  {
   "cell_type": "code",
   "execution_count": 21,
   "id": "64114608",
   "metadata": {
    "tags": [
     "remove_input"
    ]
   },
   "outputs": [
    {
     "data": {
      "image/png": "[encoded data removed]",
      "text/plain": [
       "<Figure size 288x288 with 2 Axes>"
      ]
     },
     "metadata": {},
     "output_type": "display_data"
    }
   ],
   "source": [
    "cmap = sns.color_palette(\"vlag\", as_cmap=True)\n",
    "\n",
    "corr = df.corr()\n",
    "mask = np.zeros_like(corr)\n",
    "mask[np.triu_indices_from(mask)] = True\n",
    "\n",
    "fig, ax = plt.subplots(figsize = (4,4))\n",
    "sns.heatmap(corr, ax=ax, fmt='.2f', cmap=cmap, annot=True,\n",
    "            center=0, mask=mask, linewidths=.5, square=True)\n",
    "ax.text(-3.5,-1.1, 'Correlation',{'size': 16, 'weight':'bold'}, alpha = 0.9)\n",
    "ax.text(-3.5,-0.65, 'Feature correlation for processed data',{'size': 12, 'weight':'normal'}, alpha = 0.8)\n",
    "ax.tick_params(axis = 'y', rotation=0)\n",
    "xticks = ['Temperature', 'Humidity', 'Ozone','Real Ozone']\n",
    "yticks = ['Temperature', 'Humidity', 'Ozone','Real Ozone']\n",
    "ax.set_xticklabels(xticks, {'size':10, 'weight':'bold'},rotation = 90, alpha = 0.9)\n",
    "ax.set_yticklabels(yticks, {'size':10, 'weight':'bold'}, rotation = 0, alpha = 0.9)\n",
    "\n",
    "fig.show()"
   ]
  },
  {
   "cell_type": "markdown",
   "id": "dca9afea",
   "metadata": {},
   "source": [
    "- There is high correlation between temperature and $O_3$.\n",
    "- There is high negative correlation between humidity and $O_3$.\n",
    "- There is very high correlation between $O_3$ and reference $O_3$."
   ]
  },
  {
   "cell_type": "markdown",
   "id": "9ee48a6f",
   "metadata": {},
   "source": [
    "# Part II: Calibration"
   ]
  },
  {
   "cell_type": "markdown",
   "id": "9038ddd1",
   "metadata": {},
   "source": [
    "Drop *date*: we will consider that the samples are independent to simplify the analysis."
   ]
  },
  {
   "cell_type": "code",
   "execution_count": 22,
   "id": "d7ae002a",
   "metadata": {},
   "outputs": [],
   "source": [
    "df = df.drop(['date'], axis=1)"
   ]
  },
  {
   "cell_type": "markdown",
   "id": "4fc30628",
   "metadata": {},
   "source": [
    "### Outliers\n",
    "\n",
    "Real ozone seems to have some *outliers* (see Real Ozone boxplot)."
   ]
  },
  {
   "cell_type": "code",
   "execution_count": 23,
   "id": "eff273b3",
   "metadata": {},
   "outputs": [
    {
     "name": "stdout",
     "output_type": "stream",
     "text": [
      "(789, 4)\n"
     ]
    },
    {
     "data": {
      "image/png": "[encoded data removed]",
      "text/plain": [
       "<Figure size 576x576 with 4 Axes>"
      ]
     },
     "metadata": {},
     "output_type": "display_data"
    }
   ],
   "source": [
    "df_aux = df.copy()\n",
    "\n",
    "for col in df.columns:\n",
    "    lof = LocalOutlierFactor(n_neighbors=20, n_jobs=-1)\n",
    "    result = lof.fit_predict(df_aux[col].values.reshape(-1, 1))\n",
    "    df_aux = df_aux[result == 1]\n",
    "print(df_aux.shape)\n",
    "\n",
    "fig, axs = plt.subplots(4, figsize=(8,8), sharey=False)\n",
    "for i, col in enumerate(df_aux.columns):\n",
    "    _ = sns.boxplot(data=df_aux, x=col, ax=axs[i], color=colorDict[col])"
   ]
  },
  {
   "cell_type": "markdown",
   "id": "ac965e27",
   "metadata": {},
   "source": [
    "We decided **not to filter out** the possible outliers since *Local Outlier Factor* is removing ~200 samples which is a 20% of the total."
   ]
  },
  {
   "cell_type": "markdown",
   "id": "8e028605",
   "metadata": {},
   "source": [
    "### Normalization"
   ]
  },
  {
   "cell_type": "markdown",
   "id": "fbc58e76",
   "metadata": {},
   "source": [
    "The features 'humidity', 'ozone', and 'real ozone' are *skewed* as we saw in the histograms from the previous section. \n",
    "\n",
    "We can avoid this that applying a *logarithm* to this column, as all values are positive."
   ]
  },
  {
   "cell_type": "code",
   "execution_count": 24,
   "id": "7dc10f36",
   "metadata": {},
   "outputs": [],
   "source": [
    "def plot_hist_log(df, col, color):\n",
    "    fig, axs= plt.subplots(1,2, gridspec_kw = {'width_ratios': [2, 2]}, figsize = (9,4), sharey=False)\n",
    "    axs[0].set_title('')\n",
    "    axs[1].set_title('$\\log_{10}$')\n",
    "    hist = sns.histplot(data=df, x=col, kde=True, element='step', fill=True, ax=axs[0], color=color)\n",
    "    hist = sns.histplot(log_scale=True,data=df, x=col, kde=True, element='step', fill=True, ax=axs[1], color=color)"
   ]
  },
  {
   "cell_type": "code",
   "execution_count": 25,
   "id": "22436b2c",
   "metadata": {},
   "outputs": [
    {
     "data": {
      "image/png": "[encoded data removed]",
      "text/plain": [
       "<Figure size 648x288 with 2 Axes>"
      ]
     },
     "metadata": {},
     "output_type": "display_data"
    },
    {
     "data": {
      "image/png": "[encoded data removed]",
      "text/plain": [
       "<Figure size 648x288 with 2 Axes>"
      ]
     },
     "metadata": {},
     "output_type": "display_data"
    },
    {
     "data": {
      "image/png": "[encoded data removed]",
      "text/plain": [
       "<Figure size 648x288 with 2 Axes>"
      ]
     },
     "metadata": {},
     "output_type": "display_data"
    },
    {
     "data": {
      "image/png": "[encoded data removed]",
      "text/plain": [
       "<Figure size 648x288 with 2 Axes>"
      ]
     },
     "metadata": {},
     "output_type": "display_data"
    }
   ],
   "source": [
    "for col in df.columns:\n",
    "    color = colorDict[col]\n",
    "    plot_hist_log(df, col, color=color)"
   ]
  },
  {
   "cell_type": "markdown",
   "id": "f9d09f99",
   "metadata": {},
   "source": [
    "Changing the scale on 'temperature' and 'real ozone' seems to have worked but 'humidity' and 'ozone' still have this multivariate normal distribution shape."
   ]
  },
  {
   "cell_type": "markdown",
   "id": "aaf03a07",
   "metadata": {},
   "source": [
    "### Factor analysis\n",
    "\n",
    "Factor analysis in this dataset is not worth exploring since the number of variables is already really small."
   ]
  },
  {
   "cell_type": "markdown",
   "id": "096cc3ca",
   "metadata": {},
   "source": [
    "## Modeling"
   ]
  },
  {
   "cell_type": "markdown",
   "id": "ee1341bf",
   "metadata": {},
   "source": [
    "Pick the best model and hyperparameters."
   ]
  },
  {
   "cell_type": "markdown",
   "id": "01f7a839",
   "metadata": {},
   "source": [
    "### Preprocessing and Resampling"
   ]
  },
  {
   "cell_type": "markdown",
   "id": "14d82f18",
   "metadata": {},
   "source": [
    "We use a RobustScaler since the StandardScaler does not work well in the presence of outliers (see [here](https://scikit-learn.org/stable/auto_examples/preprocessing/plot_all_scaling.html#sphx-glr-auto-examples-preprocessing-plot-all-scaling-py))."
   ]
  },
  {
   "cell_type": "code",
   "execution_count": 26,
   "id": "8c016c2b",
   "metadata": {},
   "outputs": [],
   "source": [
    "def preprocessing(X, y):\n",
    "    lof = LocalOutlierFactor(n_neighbors=20, n_jobs=-1)\n",
    "    result = lof.fit_predict(X)\n",
    "    X = X[result == 1]\n",
    "    y = y[result == 1]\n",
    "    \n",
    "    scaler = RobustScaler()\n",
    "    X = scaler.fit_transform(X)\n",
    "    \n",
    "    return X, y\n",
    "\n",
    "def preprocessing_test(X, y):\n",
    "    scaler = RobustScaler()\n",
    "    X = scaler.fit_transform(X)\n",
    "    return X, y"
   ]
  },
  {
   "cell_type": "code",
   "execution_count": 27,
   "id": "1ebda5af",
   "metadata": {},
   "outputs": [
    {
     "name": "stdout",
     "output_type": "stream",
     "text": [
      "Train:  (580, 3)\n",
      "Validation:  (200, 3)\n",
      "Test:  (200, 3)\n"
     ]
    }
   ],
   "source": [
    "X = df.loc[:, df.columns != 'real_ozone']\n",
    "y = df['real_ozone']\n",
    "\n",
    "X_train, X_test, y_train, y_test = train_test_split(X, y, test_size=0.2, random_state=random_seed)\n",
    "X_train, X_val, y_train, y_val = train_test_split(X_train, y_train, test_size=0.25, random_state=random_seed)\n",
    "\n",
    "X_train, y_train = preprocessing(X_train, y_train)\n",
    "X_val, y_val = preprocessing_test(X_val, y_val)\n",
    "X_test, y_test = preprocessing_test(X_test, y_test)\n",
    "\n",
    "print('Train: ', X_train.shape)\n",
    "print('Validation: ', X_val.shape)\n",
    "print('Test: ', X_test.shape)"
   ]
  },
  {
   "cell_type": "markdown",
   "id": "851fa689",
   "metadata": {},
   "source": [
    "### Metrics"
   ]
  },
  {
   "cell_type": "markdown",
   "id": "34bbcb6c",
   "metadata": {},
   "source": [
    "We are going to use the following regression metrics:\n",
    "\n",
    "$$\n",
    "MAE(y, \\hat{y}) = \\frac{1}{n}\\sum_{i=0}^{n-1} |y_i - \\hat{y_i}|\n",
    "$$\n",
    "\n",
    "$$\n",
    "RMSE(y, \\hat{y}) = \\sqrt{\\frac{1}{n}\\sum_{i=0}^{n-1} (y_i - \\hat{y_i})^2}\n",
    "$$\n",
    "\n",
    "$$\n",
    "R^2(y, \\hat{y}) = 1 - \\frac{\\sum_{i=1}^{n} (y_i - \\hat{y_i})^2}{\\sum_{i=1}^{n} (y_i - \\bar{y_i})^2}\n",
    "$$"
   ]
  },
  {
   "cell_type": "code",
   "execution_count": 28,
   "id": "4f456a86",
   "metadata": {},
   "outputs": [],
   "source": [
    "metrics = ['MAE', 'RMSE', '$R^2$']\n",
    "results = pd.DataFrame(columns=metrics)"
   ]
  },
  {
   "cell_type": "code",
   "execution_count": 29,
   "id": "8e001703",
   "metadata": {},
   "outputs": [],
   "source": [
    "def plot_results():\n",
    "    display(results.sort_values(by='MAE',ascending=True))"
   ]
  },
  {
   "cell_type": "code",
   "execution_count": 30,
   "id": "be5a6e83",
   "metadata": {},
   "outputs": [],
   "source": [
    "def compute_metrics(y_true,y_pred):\n",
    "    \"\"\"Returns an array with all the metrics.\"\"\"\n",
    "    mae = mean_absolute_error(y_true,y_pred)\n",
    "    rmse = mean_squared_error(y_true,y_pred, squared=False)\n",
    "    r2 = r2_score(y_true,y_pred)\n",
    "    return [mae,\n",
    "            rmse,\n",
    "            r2,\n",
    "           ]\n",
    "\n",
    "def evaluate(name, model, print_results=True):\n",
    "    \"\"\"Evaluates the model with the validation dataset.\"\"\"\n",
    "    try:\n",
    "        model = model.best_estimator_\n",
    "    except Exception as e:\n",
    "        pass\n",
    "    y_pred = model.predict(X_val)\n",
    "    results.loc[name,:] = compute_metrics(y_val, y_pred)\n",
    "    if print_results:\n",
    "        plot_results()"
   ]
  },
  {
   "cell_type": "markdown",
   "id": "5085a794",
   "metadata": {},
   "source": [
    "### Model Selection\n",
    "\n",
    "We are going to explore the following models:\n",
    "- Linear Regression\n",
    "- k-Nearest Neighbors Regression\n",
    "- Random Forest Regression\n",
    "- Kernel Regression\n",
    "- Gaussian Process\n",
    "- Support Vector Regression\n",
    "- Neural Networks\n",
    "\n",
    "First, we will evaluate the models with *default parameters*. Then, we are going to carefully tune the *hyperparameters* to get the best score out of them."
   ]
  },
  {
   "cell_type": "code",
   "execution_count": 31,
   "id": "d7c2ac7b",
   "metadata": {
    "scrolled": true
   },
   "outputs": [],
   "source": [
    "lr = LinearRegression(normalize=False)\n",
    "ridge = Ridge(normalize=False, random_state=random_seed)\n",
    "sgd = SGDRegressor(random_state=random_seed)\n",
    "knn = KNeighborsRegressor()\n",
    "rf = RandomForestRegressor(random_state=random_seed)\n",
    "krr = KernelRidge()\n",
    "gp = GaussianProcessRegressor(random_state=random_seed)\n",
    "svr = SVR()\n",
    "nn = MLPRegressor(random_state=random_seed)\n",
    "\n",
    "models = {\n",
    "    'LR(default)': lr,\n",
    "    'Ridge(default)': ridge,\n",
    "    'LR-SGD(default)': sgd,\n",
    "    'KNN(default)': knn,\n",
    "    'RF(default)': rf,\n",
    "    'KRR(default)': krr,\n",
    "    'GP(default)': gp,\n",
    "    'SVR(default)': svr,\n",
    "    'NN(default)': nn,\n",
    "}"
   ]
  },
  {
   "cell_type": "code",
   "execution_count": 32,
   "id": "ff704508",
   "metadata": {},
   "outputs": [
    {
     "data": {
      "text/html": [
       "<div>\n",
       "<style scoped>\n",
       "    .dataframe tbody tr th:only-of-type {\n",
       "        vertical-align: middle;\n",
       "    }\n",
       "\n",
       "    .dataframe tbody tr th {\n",
       "        vertical-align: top;\n",
       "    }\n",
       "\n",
       "    .dataframe thead th {\n",
       "        text-align: right;\n",
       "    }\n",
       "</style>\n",
       "<table border=\"1\" class=\"dataframe\">\n",
       "  <thead>\n",
       "    <tr style=\"text-align: right;\">\n",
       "      <th></th>\n",
       "      <th>MAE</th>\n",
       "      <th>RMSE</th>\n",
       "      <th>$R^2$</th>\n",
       "    </tr>\n",
       "  </thead>\n",
       "  <tbody>\n",
       "    <tr>\n",
       "      <th>RF(default)</th>\n",
       "      <td>7.42645</td>\n",
       "      <td>9.924838</td>\n",
       "      <td>0.94356</td>\n",
       "    </tr>\n",
       "    <tr>\n",
       "      <th>KNN(default)</th>\n",
       "      <td>7.465</td>\n",
       "      <td>10.489528</td>\n",
       "      <td>0.936955</td>\n",
       "    </tr>\n",
       "    <tr>\n",
       "      <th>LR(default)</th>\n",
       "      <td>10.426426</td>\n",
       "      <td>13.432264</td>\n",
       "      <td>0.89662</td>\n",
       "    </tr>\n",
       "    <tr>\n",
       "      <th>LR-SGD(default)</th>\n",
       "      <td>10.429318</td>\n",
       "      <td>13.442404</td>\n",
       "      <td>0.896463</td>\n",
       "    </tr>\n",
       "    <tr>\n",
       "      <th>Ridge(default)</th>\n",
       "      <td>10.43362</td>\n",
       "      <td>13.456077</td>\n",
       "      <td>0.896253</td>\n",
       "    </tr>\n",
       "    <tr>\n",
       "      <th>SVR(default)</th>\n",
       "      <td>12.209157</td>\n",
       "      <td>17.7752</td>\n",
       "      <td>0.818962</td>\n",
       "    </tr>\n",
       "    <tr>\n",
       "      <th>NN(default)</th>\n",
       "      <td>19.542292</td>\n",
       "      <td>23.670468</td>\n",
       "      <td>0.678964</td>\n",
       "    </tr>\n",
       "    <tr>\n",
       "      <th>GP(default)</th>\n",
       "      <td>26.807484</td>\n",
       "      <td>139.389439</td>\n",
       "      <td>-10.132677</td>\n",
       "    </tr>\n",
       "    <tr>\n",
       "      <th>KRR(default)</th>\n",
       "      <td>41.903928</td>\n",
       "      <td>48.805811</td>\n",
       "      <td>-0.364844</td>\n",
       "    </tr>\n",
       "  </tbody>\n",
       "</table>\n",
       "</div>"
      ],
      "text/plain": [
       "                       MAE        RMSE      $R^2$\n",
       "RF(default)        7.42645    9.924838    0.94356\n",
       "KNN(default)         7.465   10.489528   0.936955\n",
       "LR(default)      10.426426   13.432264    0.89662\n",
       "LR-SGD(default)  10.429318   13.442404   0.896463\n",
       "Ridge(default)    10.43362   13.456077   0.896253\n",
       "SVR(default)     12.209157     17.7752   0.818962\n",
       "NN(default)      19.542292   23.670468   0.678964\n",
       "GP(default)      26.807484  139.389439 -10.132677\n",
       "KRR(default)     41.903928   48.805811  -0.364844"
      ]
     },
     "metadata": {},
     "output_type": "display_data"
    }
   ],
   "source": [
    "for name, model in models.items():\n",
    "    model.fit(X_train, y_train)\n",
    "    evaluate(name, model, print_results=False)\n",
    "    \n",
    "plot_results()"
   ]
  },
  {
   "cell_type": "markdown",
   "id": "a7856e74",
   "metadata": {},
   "source": [
    "The best model with default parameters is the Random Forest followed by K-Nearest Neighbors."
   ]
  },
  {
   "cell_type": "markdown",
   "id": "d773d49f",
   "metadata": {},
   "source": [
    "#### Hypertunning"
   ]
  },
  {
   "cell_type": "code",
   "execution_count": 33,
   "id": "55c6b433",
   "metadata": {},
   "outputs": [],
   "source": [
    "def print_time(start, end):\n",
    "    duration = timedelta(seconds=end-start)\n",
    "    days, seconds = duration.days, duration.seconds\n",
    "    minutes = (seconds % 3600) // 60\n",
    "    seconds = (seconds % 60)\n",
    "    print(f'{minutes} minutes, {seconds} seconds')\n",
    "    \n",
    "def print_best_params(cvModel):\n",
    "    stringified = json.dumps(cvModel.best_params_, sort_keys=False, indent=2)\n",
    "    print(stringified)"
   ]
  },
  {
   "cell_type": "code",
   "execution_count": 34,
   "id": "54d0b399",
   "metadata": {},
   "outputs": [],
   "source": [
    "def hypertune(estimator, param_grid, extra_scoring_cols, print_scores=True, cv=10):\n",
    "    \"\"\"Returns the model hypertunned.\"\"\"\n",
    "    scoring_cols = extra_scoring_cols + [\n",
    "        'mean_test_mae', \n",
    "        'mean_test_mse', \n",
    "        'mean_test_r2'\n",
    "    ]\n",
    "    \n",
    "    scoring_dict = {\n",
    "        'mae': 'neg_mean_absolute_error',\n",
    "        'mse': 'neg_mean_squared_error',\n",
    "        'r2': 'r2',\n",
    "    }\n",
    "\n",
    "    start = time()\n",
    "    \n",
    "    cvModel = GridSearchCV(\n",
    "        estimator=estimator,\n",
    "        scoring=scoring_dict,\n",
    "        param_grid=param_grid,\n",
    "        refit='mae',\n",
    "        cv=cv,\n",
    "        n_jobs=-1,\n",
    "        return_train_score=False\n",
    "    )\n",
    "\n",
    "    cvModel = cvModel.fit(X_train, y_train)\n",
    "    \n",
    "    print_time(start, time())\n",
    "    \n",
    "    scores = pd.DataFrame(cvModel.cv_results_) \\\n",
    "              .sort_values(by='mean_test_mae',ascending=False)[scoring_cols] \\\n",
    "              .head()\n",
    "    \n",
    "    if print_scores:\n",
    "        print_best_params(cvModel)\n",
    "        display(scores)\n",
    "    \n",
    "    return cvModel"
   ]
  },
  {
   "cell_type": "markdown",
   "id": "6d81e046",
   "metadata": {},
   "source": [
    "#### Multiple Linear Regression"
   ]
  },
  {
   "cell_type": "markdown",
   "id": "af526a49",
   "metadata": {},
   "source": [
    "Before applying *linear regression* we should validate if our data follow the assumptions."
   ]
  },
  {
   "cell_type": "code",
   "execution_count": 35,
   "id": "3d86df80",
   "metadata": {},
   "outputs": [
    {
     "data": {
      "text/html": [
       "<table class=\"simpletable\">\n",
       "<caption>OLS Regression Results</caption>\n",
       "<tr>\n",
       "  <th>Dep. Variable:</th>       <td>real_ozone</td>    <th>  R-squared:         </th> <td>   0.892</td> \n",
       "</tr>\n",
       "<tr>\n",
       "  <th>Model:</th>                   <td>OLS</td>       <th>  Adj. R-squared:    </th> <td>   0.892</td> \n",
       "</tr>\n",
       "<tr>\n",
       "  <th>Method:</th>             <td>Least Squares</td>  <th>  F-statistic:       </th> <td>   1591.</td> \n",
       "</tr>\n",
       "<tr>\n",
       "  <th>Date:</th>             <td>Wed, 02 Jun 2021</td> <th>  Prob (F-statistic):</th> <td>3.42e-278</td>\n",
       "</tr>\n",
       "<tr>\n",
       "  <th>Time:</th>                 <td>14:38:32</td>     <th>  Log-Likelihood:    </th> <td> -2320.3</td> \n",
       "</tr>\n",
       "<tr>\n",
       "  <th>No. Observations:</th>      <td>   580</td>      <th>  AIC:               </th> <td>   4649.</td> \n",
       "</tr>\n",
       "<tr>\n",
       "  <th>Df Residuals:</th>          <td>   576</td>      <th>  BIC:               </th> <td>   4666.</td> \n",
       "</tr>\n",
       "<tr>\n",
       "  <th>Df Model:</th>              <td>     3</td>      <th>                     </th>     <td> </td>    \n",
       "</tr>\n",
       "<tr>\n",
       "  <th>Covariance Type:</th>      <td>nonrobust</td>    <th>                     </th>     <td> </td>    \n",
       "</tr>\n",
       "</table>\n",
       "<table class=\"simpletable\">\n",
       "<tr>\n",
       "    <td></td>       <th>coef</th>     <th>std err</th>      <th>t</th>      <th>P>|t|</th>  <th>[0.025</th>    <th>0.975]</th>  \n",
       "</tr>\n",
       "<tr>\n",
       "  <th>const</th> <td>   61.5272</td> <td>    0.725</td> <td>   84.815</td> <td> 0.000</td> <td>   60.102</td> <td>   62.952</td>\n",
       "</tr>\n",
       "<tr>\n",
       "  <th>x1</th>    <td>   24.4242</td> <td>    1.228</td> <td>   19.894</td> <td> 0.000</td> <td>   22.013</td> <td>   26.836</td>\n",
       "</tr>\n",
       "<tr>\n",
       "  <th>x2</th>    <td>   -1.1010</td> <td>    1.211</td> <td>   -0.909</td> <td> 0.364</td> <td>   -3.480</td> <td>    1.278</td>\n",
       "</tr>\n",
       "<tr>\n",
       "  <th>x3</th>    <td>   48.5845</td> <td>    1.470</td> <td>   33.049</td> <td> 0.000</td> <td>   45.697</td> <td>   51.472</td>\n",
       "</tr>\n",
       "</table>\n",
       "<table class=\"simpletable\">\n",
       "<tr>\n",
       "  <th>Omnibus:</th>       <td> 4.035</td> <th>  Durbin-Watson:     </th> <td>   2.110</td>\n",
       "</tr>\n",
       "<tr>\n",
       "  <th>Prob(Omnibus):</th> <td> 0.133</td> <th>  Jarque-Bera (JB):  </th> <td>   4.839</td>\n",
       "</tr>\n",
       "<tr>\n",
       "  <th>Skew:</th>          <td> 0.031</td> <th>  Prob(JB):          </th> <td>  0.0890</td>\n",
       "</tr>\n",
       "<tr>\n",
       "  <th>Kurtosis:</th>      <td> 3.443</td> <th>  Cond. No.          </th> <td>    3.31</td>\n",
       "</tr>\n",
       "</table><br/><br/>Notes:<br/>[1] Standard Errors assume that the covariance matrix of the errors is correctly specified."
      ],
      "text/plain": [
       "<class 'statsmodels.iolib.summary.Summary'>\n",
       "\"\"\"\n",
       "                            OLS Regression Results                            \n",
       "==============================================================================\n",
       "Dep. Variable:             real_ozone   R-squared:                       0.892\n",
       "Model:                            OLS   Adj. R-squared:                  0.892\n",
       "Method:                 Least Squares   F-statistic:                     1591.\n",
       "Date:                Wed, 02 Jun 2021   Prob (F-statistic):          3.42e-278\n",
       "Time:                        14:38:32   Log-Likelihood:                -2320.3\n",
       "No. Observations:                 580   AIC:                             4649.\n",
       "Df Residuals:                     576   BIC:                             4666.\n",
       "Df Model:                           3                                         \n",
       "Covariance Type:            nonrobust                                         \n",
       "==============================================================================\n",
       "                 coef    std err          t      P>|t|      [0.025      0.975]\n",
       "------------------------------------------------------------------------------\n",
       "const         61.5272      0.725     84.815      0.000      60.102      62.952\n",
       "x1            24.4242      1.228     19.894      0.000      22.013      26.836\n",
       "x2            -1.1010      1.211     -0.909      0.364      -3.480       1.278\n",
       "x3            48.5845      1.470     33.049      0.000      45.697      51.472\n",
       "==============================================================================\n",
       "Omnibus:                        4.035   Durbin-Watson:                   2.110\n",
       "Prob(Omnibus):                  0.133   Jarque-Bera (JB):                4.839\n",
       "Skew:                           0.031   Prob(JB):                       0.0890\n",
       "Kurtosis:                       3.443   Cond. No.                         3.31\n",
       "==============================================================================\n",
       "\n",
       "Notes:\n",
       "[1] Standard Errors assume that the covariance matrix of the errors is correctly specified.\n",
       "\"\"\""
      ]
     },
     "execution_count": 35,
     "metadata": {},
     "output_type": "execute_result"
    }
   ],
   "source": [
    "model = sm.OLS(y_train, sm.add_constant(X_train))\n",
    "result = model.fit()\n",
    "result.summary()"
   ]
  },
  {
   "cell_type": "code",
   "execution_count": 36,
   "id": "f19e7765",
   "metadata": {},
   "outputs": [
    {
     "data": {
      "image/png": "[encoded data removed]",
      "text/plain": [
       "<Figure size 576x576 with 1 Axes>"
      ]
     },
     "metadata": {},
     "output_type": "display_data"
    }
   ],
   "source": [
    "fig, ax = plt.subplots(figsize=(8,8))\n",
    "ax.set_xlim([-5,5])\n",
    "sns.distplot(result.resid,bins=100);"
   ]
  },
  {
   "cell_type": "markdown",
   "id": "17a5af19",
   "metadata": {},
   "source": [
    "We assume **normal distribution of error terms** in LR. \n",
    "The previous plot should look like a Gaussian distribution\n",
    "in order to validate the assumption.\n",
    "\n",
    "This is an indicator that LR may not perform the best.\n",
    "\n",
    "We will also run a *QQ-plot* to validate our model."
   ]
  },
  {
   "cell_type": "code",
   "execution_count": 37,
   "id": "2e7bbf40",
   "metadata": {},
   "outputs": [
    {
     "data": {
      "image/png": "[encoded data removed]",
      "text/plain": [
       "<Figure size 576x576 with 1 Axes>"
      ]
     },
     "metadata": {},
     "output_type": "display_data"
    }
   ],
   "source": [
    "fig, ax = plt.subplots(figsize=(8,8))\n",
    "scipy.stats.probplot(result.resid, plot=plt);"
   ]
  },
  {
   "cell_type": "markdown",
   "id": "61a24c3b",
   "metadata": {},
   "source": [
    "The *QQ-plot* looks fine."
   ]
  },
  {
   "cell_type": "markdown",
   "id": "5ae07c45",
   "metadata": {},
   "source": [
    "LinearRegression cannot be optimized since it has no hyperparameters."
   ]
  },
  {
   "cell_type": "code",
   "execution_count": 38,
   "id": "df5aa8b1",
   "metadata": {},
   "outputs": [
    {
     "name": "stdout",
     "output_type": "stream",
     "text": [
      "0 minutes, 1 seconds\n",
      "{\n",
      "  \"alpha\": 1\n",
      "}\n"
     ]
    },
    {
     "data": {
      "text/html": [
       "<div>\n",
       "<style scoped>\n",
       "    .dataframe tbody tr th:only-of-type {\n",
       "        vertical-align: middle;\n",
       "    }\n",
       "\n",
       "    .dataframe tbody tr th {\n",
       "        vertical-align: top;\n",
       "    }\n",
       "\n",
       "    .dataframe thead th {\n",
       "        text-align: right;\n",
       "    }\n",
       "</style>\n",
       "<table border=\"1\" class=\"dataframe\">\n",
       "  <thead>\n",
       "    <tr style=\"text-align: right;\">\n",
       "      <th></th>\n",
       "      <th>param_alpha</th>\n",
       "      <th>mean_test_mae</th>\n",
       "      <th>mean_test_mse</th>\n",
       "      <th>mean_test_r2</th>\n",
       "    </tr>\n",
       "  </thead>\n",
       "  <tbody>\n",
       "    <tr>\n",
       "      <th>4</th>\n",
       "      <td>1</td>\n",
       "      <td>-10.552082</td>\n",
       "      <td>-177.208270</td>\n",
       "      <td>0.886404</td>\n",
       "    </tr>\n",
       "    <tr>\n",
       "      <th>3</th>\n",
       "      <td>0.5</td>\n",
       "      <td>-10.555654</td>\n",
       "      <td>-177.187459</td>\n",
       "      <td>0.886387</td>\n",
       "    </tr>\n",
       "    <tr>\n",
       "      <th>5</th>\n",
       "      <td>5</td>\n",
       "      <td>-10.558275</td>\n",
       "      <td>-178.206629</td>\n",
       "      <td>0.885999</td>\n",
       "    </tr>\n",
       "    <tr>\n",
       "      <th>2</th>\n",
       "      <td>0.1</td>\n",
       "      <td>-10.559142</td>\n",
       "      <td>-177.189949</td>\n",
       "      <td>0.886360</td>\n",
       "    </tr>\n",
       "    <tr>\n",
       "      <th>1</th>\n",
       "      <td>0.01</td>\n",
       "      <td>-10.559991</td>\n",
       "      <td>-177.192923</td>\n",
       "      <td>0.886352</td>\n",
       "    </tr>\n",
       "  </tbody>\n",
       "</table>\n",
       "</div>"
      ],
      "text/plain": [
       "  param_alpha  mean_test_mae  mean_test_mse  mean_test_r2\n",
       "4           1     -10.552082    -177.208270      0.886404\n",
       "3         0.5     -10.555654    -177.187459      0.886387\n",
       "5           5     -10.558275    -178.206629      0.885999\n",
       "2         0.1     -10.559142    -177.189949      0.886360\n",
       "1        0.01     -10.559991    -177.192923      0.886352"
      ]
     },
     "metadata": {},
     "output_type": "display_data"
    },
    {
     "data": {
      "text/html": [
       "<div>\n",
       "<style scoped>\n",
       "    .dataframe tbody tr th:only-of-type {\n",
       "        vertical-align: middle;\n",
       "    }\n",
       "\n",
       "    .dataframe tbody tr th {\n",
       "        vertical-align: top;\n",
       "    }\n",
       "\n",
       "    .dataframe thead th {\n",
       "        text-align: right;\n",
       "    }\n",
       "</style>\n",
       "<table border=\"1\" class=\"dataframe\">\n",
       "  <thead>\n",
       "    <tr style=\"text-align: right;\">\n",
       "      <th></th>\n",
       "      <th>MAE</th>\n",
       "      <th>RMSE</th>\n",
       "      <th>$R^2$</th>\n",
       "    </tr>\n",
       "  </thead>\n",
       "  <tbody>\n",
       "    <tr>\n",
       "      <th>RF(default)</th>\n",
       "      <td>7.42645</td>\n",
       "      <td>9.924838</td>\n",
       "      <td>0.94356</td>\n",
       "    </tr>\n",
       "    <tr>\n",
       "      <th>KNN(default)</th>\n",
       "      <td>7.465</td>\n",
       "      <td>10.489528</td>\n",
       "      <td>0.936955</td>\n",
       "    </tr>\n",
       "    <tr>\n",
       "      <th>LR(default)</th>\n",
       "      <td>10.426426</td>\n",
       "      <td>13.432264</td>\n",
       "      <td>0.89662</td>\n",
       "    </tr>\n",
       "    <tr>\n",
       "      <th>LR-SGD(default)</th>\n",
       "      <td>10.429318</td>\n",
       "      <td>13.442404</td>\n",
       "      <td>0.896463</td>\n",
       "    </tr>\n",
       "    <tr>\n",
       "      <th>Ridge(default)</th>\n",
       "      <td>10.43362</td>\n",
       "      <td>13.456077</td>\n",
       "      <td>0.896253</td>\n",
       "    </tr>\n",
       "    <tr>\n",
       "      <th>Ridge(best)</th>\n",
       "      <td>10.43362</td>\n",
       "      <td>13.456077</td>\n",
       "      <td>0.896253</td>\n",
       "    </tr>\n",
       "    <tr>\n",
       "      <th>SVR(default)</th>\n",
       "      <td>12.209157</td>\n",
       "      <td>17.7752</td>\n",
       "      <td>0.818962</td>\n",
       "    </tr>\n",
       "    <tr>\n",
       "      <th>NN(default)</th>\n",
       "      <td>19.542292</td>\n",
       "      <td>23.670468</td>\n",
       "      <td>0.678964</td>\n",
       "    </tr>\n",
       "    <tr>\n",
       "      <th>GP(default)</th>\n",
       "      <td>26.807484</td>\n",
       "      <td>139.389439</td>\n",
       "      <td>-10.132677</td>\n",
       "    </tr>\n",
       "    <tr>\n",
       "      <th>KRR(default)</th>\n",
       "      <td>41.903928</td>\n",
       "      <td>48.805811</td>\n",
       "      <td>-0.364844</td>\n",
       "    </tr>\n",
       "  </tbody>\n",
       "</table>\n",
       "</div>"
      ],
      "text/plain": [
       "                       MAE        RMSE      $R^2$\n",
       "RF(default)        7.42645    9.924838    0.94356\n",
       "KNN(default)         7.465   10.489528   0.936955\n",
       "LR(default)      10.426426   13.432264    0.89662\n",
       "LR-SGD(default)  10.429318   13.442404   0.896463\n",
       "Ridge(default)    10.43362   13.456077   0.896253\n",
       "Ridge(best)       10.43362   13.456077   0.896253\n",
       "SVR(default)     12.209157     17.7752   0.818962\n",
       "NN(default)      19.542292   23.670468   0.678964\n",
       "GP(default)      26.807484  139.389439 -10.132677\n",
       "KRR(default)     41.903928   48.805811  -0.364844"
      ]
     },
     "metadata": {},
     "output_type": "display_data"
    }
   ],
   "source": [
    "alpha = [0.001,0.01,0.1,0.5,1,5,10,100]\n",
    "\n",
    "param_grid={\n",
    "    'alpha': alpha,\n",
    "}\n",
    "\n",
    "extra_scoring_cols = [\n",
    "    'param_alpha',\n",
    "]\n",
    "\n",
    "ridge = Ridge(normalize=False, random_state=random_seed)\n",
    "ridgeBest = hypertune(ridge, param_grid, extra_scoring_cols)\n",
    "evaluate('Ridge(best)', ridgeBest)"
   ]
  },
  {
   "cell_type": "code",
   "execution_count": 39,
   "id": "1120b4e8",
   "metadata": {},
   "outputs": [
    {
     "name": "stdout",
     "output_type": "stream",
     "text": [
      "0 minutes, 0 seconds\n",
      "{\n",
      "  \"alpha\": 0.5,\n",
      "  \"learning_rate\": \"constant\",\n",
      "  \"penalty\": \"l1\"\n",
      "}\n"
     ]
    },
    {
     "data": {
      "text/html": [
       "<div>\n",
       "<style scoped>\n",
       "    .dataframe tbody tr th:only-of-type {\n",
       "        vertical-align: middle;\n",
       "    }\n",
       "\n",
       "    .dataframe tbody tr th {\n",
       "        vertical-align: top;\n",
       "    }\n",
       "\n",
       "    .dataframe thead th {\n",
       "        text-align: right;\n",
       "    }\n",
       "</style>\n",
       "<table border=\"1\" class=\"dataframe\">\n",
       "  <thead>\n",
       "    <tr style=\"text-align: right;\">\n",
       "      <th></th>\n",
       "      <th>param_penalty</th>\n",
       "      <th>param_alpha</th>\n",
       "      <th>param_learning_rate</th>\n",
       "      <th>mean_test_mae</th>\n",
       "      <th>mean_test_mse</th>\n",
       "      <th>mean_test_r2</th>\n",
       "    </tr>\n",
       "  </thead>\n",
       "  <tbody>\n",
       "    <tr>\n",
       "      <th>18</th>\n",
       "      <td>l1</td>\n",
       "      <td>0.5</td>\n",
       "      <td>constant</td>\n",
       "      <td>-10.506823</td>\n",
       "      <td>-179.356750</td>\n",
       "      <td>0.885268</td>\n",
       "    </tr>\n",
       "    <tr>\n",
       "      <th>24</th>\n",
       "      <td>l1</td>\n",
       "      <td>0.5</td>\n",
       "      <td>invscaling</td>\n",
       "      <td>-10.532848</td>\n",
       "      <td>-178.564109</td>\n",
       "      <td>0.885773</td>\n",
       "    </tr>\n",
       "    <tr>\n",
       "      <th>0</th>\n",
       "      <td>l1</td>\n",
       "      <td>0.01</td>\n",
       "      <td>constant</td>\n",
       "      <td>-10.534928</td>\n",
       "      <td>-178.088059</td>\n",
       "      <td>0.885824</td>\n",
       "    </tr>\n",
       "    <tr>\n",
       "      <th>2</th>\n",
       "      <td>elasticnet</td>\n",
       "      <td>0.01</td>\n",
       "      <td>constant</td>\n",
       "      <td>-10.535063</td>\n",
       "      <td>-178.856681</td>\n",
       "      <td>0.885618</td>\n",
       "    </tr>\n",
       "    <tr>\n",
       "      <th>9</th>\n",
       "      <td>l1</td>\n",
       "      <td>0.1</td>\n",
       "      <td>constant</td>\n",
       "      <td>-10.536924</td>\n",
       "      <td>-178.474832</td>\n",
       "      <td>0.885601</td>\n",
       "    </tr>\n",
       "  </tbody>\n",
       "</table>\n",
       "</div>"
      ],
      "text/plain": [
       "   param_penalty param_alpha param_learning_rate  mean_test_mae  \\\n",
       "18            l1         0.5            constant     -10.506823   \n",
       "24            l1         0.5          invscaling     -10.532848   \n",
       "0             l1        0.01            constant     -10.534928   \n",
       "2     elasticnet        0.01            constant     -10.535063   \n",
       "9             l1         0.1            constant     -10.536924   \n",
       "\n",
       "    mean_test_mse  mean_test_r2  \n",
       "18    -179.356750      0.885268  \n",
       "24    -178.564109      0.885773  \n",
       "0     -178.088059      0.885824  \n",
       "2     -178.856681      0.885618  \n",
       "9     -178.474832      0.885601  "
      ]
     },
     "metadata": {},
     "output_type": "display_data"
    },
    {
     "data": {
      "text/html": [
       "<div>\n",
       "<style scoped>\n",
       "    .dataframe tbody tr th:only-of-type {\n",
       "        vertical-align: middle;\n",
       "    }\n",
       "\n",
       "    .dataframe tbody tr th {\n",
       "        vertical-align: top;\n",
       "    }\n",
       "\n",
       "    .dataframe thead th {\n",
       "        text-align: right;\n",
       "    }\n",
       "</style>\n",
       "<table border=\"1\" class=\"dataframe\">\n",
       "  <thead>\n",
       "    <tr style=\"text-align: right;\">\n",
       "      <th></th>\n",
       "      <th>MAE</th>\n",
       "      <th>RMSE</th>\n",
       "      <th>$R^2$</th>\n",
       "    </tr>\n",
       "  </thead>\n",
       "  <tbody>\n",
       "    <tr>\n",
       "      <th>RF(default)</th>\n",
       "      <td>7.42645</td>\n",
       "      <td>9.924838</td>\n",
       "      <td>0.94356</td>\n",
       "    </tr>\n",
       "    <tr>\n",
       "      <th>KNN(default)</th>\n",
       "      <td>7.465</td>\n",
       "      <td>10.489528</td>\n",
       "      <td>0.936955</td>\n",
       "    </tr>\n",
       "    <tr>\n",
       "      <th>LR(default)</th>\n",
       "      <td>10.426426</td>\n",
       "      <td>13.432264</td>\n",
       "      <td>0.89662</td>\n",
       "    </tr>\n",
       "    <tr>\n",
       "      <th>LR-SGD(default)</th>\n",
       "      <td>10.429318</td>\n",
       "      <td>13.442404</td>\n",
       "      <td>0.896463</td>\n",
       "    </tr>\n",
       "    <tr>\n",
       "      <th>Ridge(default)</th>\n",
       "      <td>10.43362</td>\n",
       "      <td>13.456077</td>\n",
       "      <td>0.896253</td>\n",
       "    </tr>\n",
       "    <tr>\n",
       "      <th>Ridge(best)</th>\n",
       "      <td>10.43362</td>\n",
       "      <td>13.456077</td>\n",
       "      <td>0.896253</td>\n",
       "    </tr>\n",
       "    <tr>\n",
       "      <th>LR-SGD(best)</th>\n",
       "      <td>10.88055</td>\n",
       "      <td>14.037045</td>\n",
       "      <td>0.887101</td>\n",
       "    </tr>\n",
       "    <tr>\n",
       "      <th>SVR(default)</th>\n",
       "      <td>12.209157</td>\n",
       "      <td>17.7752</td>\n",
       "      <td>0.818962</td>\n",
       "    </tr>\n",
       "    <tr>\n",
       "      <th>NN(default)</th>\n",
       "      <td>19.542292</td>\n",
       "      <td>23.670468</td>\n",
       "      <td>0.678964</td>\n",
       "    </tr>\n",
       "    <tr>\n",
       "      <th>GP(default)</th>\n",
       "      <td>26.807484</td>\n",
       "      <td>139.389439</td>\n",
       "      <td>-10.132677</td>\n",
       "    </tr>\n",
       "    <tr>\n",
       "      <th>KRR(default)</th>\n",
       "      <td>41.903928</td>\n",
       "      <td>48.805811</td>\n",
       "      <td>-0.364844</td>\n",
       "    </tr>\n",
       "  </tbody>\n",
       "</table>\n",
       "</div>"
      ],
      "text/plain": [
       "                       MAE        RMSE      $R^2$\n",
       "RF(default)        7.42645    9.924838    0.94356\n",
       "KNN(default)         7.465   10.489528   0.936955\n",
       "LR(default)      10.426426   13.432264    0.89662\n",
       "LR-SGD(default)  10.429318   13.442404   0.896463\n",
       "Ridge(default)    10.43362   13.456077   0.896253\n",
       "Ridge(best)       10.43362   13.456077   0.896253\n",
       "LR-SGD(best)      10.88055   14.037045   0.887101\n",
       "SVR(default)     12.209157     17.7752   0.818962\n",
       "NN(default)      19.542292   23.670468   0.678964\n",
       "GP(default)      26.807484  139.389439 -10.132677\n",
       "KRR(default)     41.903928   48.805811  -0.364844"
      ]
     },
     "metadata": {},
     "output_type": "display_data"
    }
   ],
   "source": [
    "penalty = ['l1', 'l2','elasticnet']\n",
    "alpha = [0.01,0.1,0.5,1,5]\n",
    "learning_rate=['constant', 'optimal', 'invscaling']\n",
    "\n",
    "param_grid={\n",
    "    'penalty': penalty,\n",
    "    'alpha': alpha,\n",
    "    'learning_rate': learning_rate,\n",
    "}\n",
    "\n",
    "extra_scoring_cols = [\n",
    "    'param_penalty',\n",
    "    'param_alpha',\n",
    "    'param_learning_rate'\n",
    "]\n",
    "\n",
    "sgd = SGDRegressor(random_state=random_seed)\n",
    "sgdBest = hypertune(sgd, param_grid, extra_scoring_cols)\n",
    "evaluate('LR-SGD(best)', sgdBest)"
   ]
  },
  {
   "cell_type": "markdown",
   "id": "112a7c6c",
   "metadata": {},
   "source": [
    "### k-Nearest Neighbors"
   ]
  },
  {
   "cell_type": "code",
   "execution_count": 40,
   "id": "6a8c9358",
   "metadata": {},
   "outputs": [
    {
     "name": "stdout",
     "output_type": "stream",
     "text": [
      "0 minutes, 0 seconds\n",
      "{\n",
      "  \"n_neighbors\": 5,\n",
      "  \"p\": 1,\n",
      "  \"weights\": \"distance\"\n",
      "}\n"
     ]
    },
    {
     "data": {
      "text/html": [
       "<div>\n",
       "<style scoped>\n",
       "    .dataframe tbody tr th:only-of-type {\n",
       "        vertical-align: middle;\n",
       "    }\n",
       "\n",
       "    .dataframe tbody tr th {\n",
       "        vertical-align: top;\n",
       "    }\n",
       "\n",
       "    .dataframe thead th {\n",
       "        text-align: right;\n",
       "    }\n",
       "</style>\n",
       "<table border=\"1\" class=\"dataframe\">\n",
       "  <thead>\n",
       "    <tr style=\"text-align: right;\">\n",
       "      <th></th>\n",
       "      <th>param_n_neighbors</th>\n",
       "      <th>param_weights</th>\n",
       "      <th>param_p</th>\n",
       "      <th>mean_test_mae</th>\n",
       "      <th>mean_test_mse</th>\n",
       "      <th>mean_test_r2</th>\n",
       "    </tr>\n",
       "  </thead>\n",
       "  <tbody>\n",
       "    <tr>\n",
       "      <th>5</th>\n",
       "      <td>5</td>\n",
       "      <td>distance</td>\n",
       "      <td>1</td>\n",
       "      <td>-7.304946</td>\n",
       "      <td>-101.120084</td>\n",
       "      <td>0.935764</td>\n",
       "    </tr>\n",
       "    <tr>\n",
       "      <th>9</th>\n",
       "      <td>10</td>\n",
       "      <td>distance</td>\n",
       "      <td>1</td>\n",
       "      <td>-7.312238</td>\n",
       "      <td>-101.161897</td>\n",
       "      <td>0.935946</td>\n",
       "    </tr>\n",
       "    <tr>\n",
       "      <th>7</th>\n",
       "      <td>5</td>\n",
       "      <td>distance</td>\n",
       "      <td>2</td>\n",
       "      <td>-7.386537</td>\n",
       "      <td>-101.616961</td>\n",
       "      <td>0.935508</td>\n",
       "    </tr>\n",
       "    <tr>\n",
       "      <th>11</th>\n",
       "      <td>10</td>\n",
       "      <td>distance</td>\n",
       "      <td>2</td>\n",
       "      <td>-7.452998</td>\n",
       "      <td>-101.733656</td>\n",
       "      <td>0.935537</td>\n",
       "    </tr>\n",
       "    <tr>\n",
       "      <th>4</th>\n",
       "      <td>5</td>\n",
       "      <td>uniform</td>\n",
       "      <td>1</td>\n",
       "      <td>-7.586897</td>\n",
       "      <td>-106.575034</td>\n",
       "      <td>0.932272</td>\n",
       "    </tr>\n",
       "  </tbody>\n",
       "</table>\n",
       "</div>"
      ],
      "text/plain": [
       "   param_n_neighbors param_weights param_p  mean_test_mae  mean_test_mse  \\\n",
       "5                  5      distance       1      -7.304946    -101.120084   \n",
       "9                 10      distance       1      -7.312238    -101.161897   \n",
       "7                  5      distance       2      -7.386537    -101.616961   \n",
       "11                10      distance       2      -7.452998    -101.733656   \n",
       "4                  5       uniform       1      -7.586897    -106.575034   \n",
       "\n",
       "    mean_test_r2  \n",
       "5       0.935764  \n",
       "9       0.935946  \n",
       "7       0.935508  \n",
       "11      0.935537  \n",
       "4       0.932272  "
      ]
     },
     "metadata": {},
     "output_type": "display_data"
    },
    {
     "data": {
      "text/html": [
       "<div>\n",
       "<style scoped>\n",
       "    .dataframe tbody tr th:only-of-type {\n",
       "        vertical-align: middle;\n",
       "    }\n",
       "\n",
       "    .dataframe tbody tr th {\n",
       "        vertical-align: top;\n",
       "    }\n",
       "\n",
       "    .dataframe thead th {\n",
       "        text-align: right;\n",
       "    }\n",
       "</style>\n",
       "<table border=\"1\" class=\"dataframe\">\n",
       "  <thead>\n",
       "    <tr style=\"text-align: right;\">\n",
       "      <th></th>\n",
       "      <th>MAE</th>\n",
       "      <th>RMSE</th>\n",
       "      <th>$R^2$</th>\n",
       "    </tr>\n",
       "  </thead>\n",
       "  <tbody>\n",
       "    <tr>\n",
       "      <th>KNN(best)</th>\n",
       "      <td>7.214225</td>\n",
       "      <td>9.795668</td>\n",
       "      <td>0.94502</td>\n",
       "    </tr>\n",
       "    <tr>\n",
       "      <th>RF(default)</th>\n",
       "      <td>7.42645</td>\n",
       "      <td>9.924838</td>\n",
       "      <td>0.94356</td>\n",
       "    </tr>\n",
       "    <tr>\n",
       "      <th>KNN(default)</th>\n",
       "      <td>7.465</td>\n",
       "      <td>10.489528</td>\n",
       "      <td>0.936955</td>\n",
       "    </tr>\n",
       "    <tr>\n",
       "      <th>LR(default)</th>\n",
       "      <td>10.426426</td>\n",
       "      <td>13.432264</td>\n",
       "      <td>0.89662</td>\n",
       "    </tr>\n",
       "    <tr>\n",
       "      <th>LR-SGD(default)</th>\n",
       "      <td>10.429318</td>\n",
       "      <td>13.442404</td>\n",
       "      <td>0.896463</td>\n",
       "    </tr>\n",
       "    <tr>\n",
       "      <th>Ridge(default)</th>\n",
       "      <td>10.43362</td>\n",
       "      <td>13.456077</td>\n",
       "      <td>0.896253</td>\n",
       "    </tr>\n",
       "    <tr>\n",
       "      <th>Ridge(best)</th>\n",
       "      <td>10.43362</td>\n",
       "      <td>13.456077</td>\n",
       "      <td>0.896253</td>\n",
       "    </tr>\n",
       "    <tr>\n",
       "      <th>LR-SGD(best)</th>\n",
       "      <td>10.88055</td>\n",
       "      <td>14.037045</td>\n",
       "      <td>0.887101</td>\n",
       "    </tr>\n",
       "    <tr>\n",
       "      <th>SVR(default)</th>\n",
       "      <td>12.209157</td>\n",
       "      <td>17.7752</td>\n",
       "      <td>0.818962</td>\n",
       "    </tr>\n",
       "    <tr>\n",
       "      <th>NN(default)</th>\n",
       "      <td>19.542292</td>\n",
       "      <td>23.670468</td>\n",
       "      <td>0.678964</td>\n",
       "    </tr>\n",
       "    <tr>\n",
       "      <th>GP(default)</th>\n",
       "      <td>26.807484</td>\n",
       "      <td>139.389439</td>\n",
       "      <td>-10.132677</td>\n",
       "    </tr>\n",
       "    <tr>\n",
       "      <th>KRR(default)</th>\n",
       "      <td>41.903928</td>\n",
       "      <td>48.805811</td>\n",
       "      <td>-0.364844</td>\n",
       "    </tr>\n",
       "  </tbody>\n",
       "</table>\n",
       "</div>"
      ],
      "text/plain": [
       "                       MAE        RMSE      $R^2$\n",
       "KNN(best)         7.214225    9.795668    0.94502\n",
       "RF(default)        7.42645    9.924838    0.94356\n",
       "KNN(default)         7.465   10.489528   0.936955\n",
       "LR(default)      10.426426   13.432264    0.89662\n",
       "LR-SGD(default)  10.429318   13.442404   0.896463\n",
       "Ridge(default)    10.43362   13.456077   0.896253\n",
       "Ridge(best)       10.43362   13.456077   0.896253\n",
       "LR-SGD(best)      10.88055   14.037045   0.887101\n",
       "SVR(default)     12.209157     17.7752   0.818962\n",
       "NN(default)      19.542292   23.670468   0.678964\n",
       "GP(default)      26.807484  139.389439 -10.132677\n",
       "KRR(default)     41.903928   48.805811  -0.364844"
      ]
     },
     "metadata": {},
     "output_type": "display_data"
    }
   ],
   "source": [
    "n_neighbors = [2,5,10,20,30]\n",
    "weights=['uniform','distance']\n",
    "p=[1,2] # Minkowski distance\n",
    "\n",
    "param_grid={\n",
    "    'n_neighbors': n_neighbors,\n",
    "    'weights': weights,\n",
    "    'p': p,\n",
    "}\n",
    "\n",
    "extra_scoring_cols = [\n",
    "    'param_n_neighbors',\n",
    "    'param_weights',\n",
    "    'param_p',\n",
    "]\n",
    "\n",
    "knn = KNeighborsRegressor()\n",
    "knnBest = hypertune(knn, param_grid, extra_scoring_cols)\n",
    "evaluate('KNN(best)', knnBest)"
   ]
  },
  {
   "cell_type": "markdown",
   "id": "d70d7296",
   "metadata": {},
   "source": [
    "### Random Forest"
   ]
  },
  {
   "cell_type": "code",
   "execution_count": 41,
   "id": "cfd3f5c3",
   "metadata": {},
   "outputs": [
    {
     "name": "stdout",
     "output_type": "stream",
     "text": [
      "0 minutes, 24 seconds\n",
      "{\n",
      "  \"criterion\": \"mse\",\n",
      "  \"max_depth\": 100,\n",
      "  \"max_features\": \"auto\",\n",
      "  \"min_samples_leaf\": 2,\n",
      "  \"min_samples_split\": 2,\n",
      "  \"n_estimators\": 100\n",
      "}\n"
     ]
    },
    {
     "data": {
      "text/html": [
       "<div>\n",
       "<style scoped>\n",
       "    .dataframe tbody tr th:only-of-type {\n",
       "        vertical-align: middle;\n",
       "    }\n",
       "\n",
       "    .dataframe tbody tr th {\n",
       "        vertical-align: top;\n",
       "    }\n",
       "\n",
       "    .dataframe thead th {\n",
       "        text-align: right;\n",
       "    }\n",
       "</style>\n",
       "<table border=\"1\" class=\"dataframe\">\n",
       "  <thead>\n",
       "    <tr style=\"text-align: right;\">\n",
       "      <th></th>\n",
       "      <th>param_n_estimators</th>\n",
       "      <th>param_criterion</th>\n",
       "      <th>param_max_depth</th>\n",
       "      <th>param_min_samples_leaf</th>\n",
       "      <th>param_min_samples_split</th>\n",
       "      <th>param_max_features</th>\n",
       "      <th>mean_test_mae</th>\n",
       "      <th>mean_test_mse</th>\n",
       "      <th>mean_test_r2</th>\n",
       "    </tr>\n",
       "  </thead>\n",
       "  <tbody>\n",
       "    <tr>\n",
       "      <th>3</th>\n",
       "      <td>100</td>\n",
       "      <td>mse</td>\n",
       "      <td>100</td>\n",
       "      <td>2</td>\n",
       "      <td>4</td>\n",
       "      <td>auto</td>\n",
       "      <td>-6.576690</td>\n",
       "      <td>-88.698258</td>\n",
       "      <td>0.943348</td>\n",
       "    </tr>\n",
       "    <tr>\n",
       "      <th>1</th>\n",
       "      <td>100</td>\n",
       "      <td>mse</td>\n",
       "      <td>100</td>\n",
       "      <td>2</td>\n",
       "      <td>2</td>\n",
       "      <td>auto</td>\n",
       "      <td>-6.576690</td>\n",
       "      <td>-88.698258</td>\n",
       "      <td>0.943348</td>\n",
       "    </tr>\n",
       "    <tr>\n",
       "      <th>27</th>\n",
       "      <td>100</td>\n",
       "      <td>mse</td>\n",
       "      <td>None</td>\n",
       "      <td>2</td>\n",
       "      <td>4</td>\n",
       "      <td>auto</td>\n",
       "      <td>-6.576690</td>\n",
       "      <td>-88.698258</td>\n",
       "      <td>0.943348</td>\n",
       "    </tr>\n",
       "    <tr>\n",
       "      <th>25</th>\n",
       "      <td>100</td>\n",
       "      <td>mse</td>\n",
       "      <td>None</td>\n",
       "      <td>2</td>\n",
       "      <td>2</td>\n",
       "      <td>auto</td>\n",
       "      <td>-6.576690</td>\n",
       "      <td>-88.698258</td>\n",
       "      <td>0.943348</td>\n",
       "    </tr>\n",
       "    <tr>\n",
       "      <th>75</th>\n",
       "      <td>100</td>\n",
       "      <td>mae</td>\n",
       "      <td>None</td>\n",
       "      <td>2</td>\n",
       "      <td>4</td>\n",
       "      <td>auto</td>\n",
       "      <td>-6.600129</td>\n",
       "      <td>-88.530604</td>\n",
       "      <td>0.943766</td>\n",
       "    </tr>\n",
       "  </tbody>\n",
       "</table>\n",
       "</div>"
      ],
      "text/plain": [
       "   param_n_estimators param_criterion param_max_depth param_min_samples_leaf  \\\n",
       "3                 100             mse             100                      2   \n",
       "1                 100             mse             100                      2   \n",
       "27                100             mse            None                      2   \n",
       "25                100             mse            None                      2   \n",
       "75                100             mae            None                      2   \n",
       "\n",
       "   param_min_samples_split param_max_features  mean_test_mae  mean_test_mse  \\\n",
       "3                        4               auto      -6.576690     -88.698258   \n",
       "1                        2               auto      -6.576690     -88.698258   \n",
       "27                       4               auto      -6.576690     -88.698258   \n",
       "25                       2               auto      -6.576690     -88.698258   \n",
       "75                       4               auto      -6.600129     -88.530604   \n",
       "\n",
       "    mean_test_r2  \n",
       "3       0.943348  \n",
       "1       0.943348  \n",
       "27      0.943348  \n",
       "25      0.943348  \n",
       "75      0.943766  "
      ]
     },
     "metadata": {},
     "output_type": "display_data"
    },
    {
     "data": {
      "text/html": [
       "<div>\n",
       "<style scoped>\n",
       "    .dataframe tbody tr th:only-of-type {\n",
       "        vertical-align: middle;\n",
       "    }\n",
       "\n",
       "    .dataframe tbody tr th {\n",
       "        vertical-align: top;\n",
       "    }\n",
       "\n",
       "    .dataframe thead th {\n",
       "        text-align: right;\n",
       "    }\n",
       "</style>\n",
       "<table border=\"1\" class=\"dataframe\">\n",
       "  <thead>\n",
       "    <tr style=\"text-align: right;\">\n",
       "      <th></th>\n",
       "      <th>MAE</th>\n",
       "      <th>RMSE</th>\n",
       "      <th>$R^2$</th>\n",
       "    </tr>\n",
       "  </thead>\n",
       "  <tbody>\n",
       "    <tr>\n",
       "      <th>KNN(best)</th>\n",
       "      <td>7.214225</td>\n",
       "      <td>9.795668</td>\n",
       "      <td>0.94502</td>\n",
       "    </tr>\n",
       "    <tr>\n",
       "      <th>RF(best)</th>\n",
       "      <td>7.4194</td>\n",
       "      <td>9.750344</td>\n",
       "      <td>0.945527</td>\n",
       "    </tr>\n",
       "    <tr>\n",
       "      <th>RF(default)</th>\n",
       "      <td>7.42645</td>\n",
       "      <td>9.924838</td>\n",
       "      <td>0.94356</td>\n",
       "    </tr>\n",
       "    <tr>\n",
       "      <th>KNN(default)</th>\n",
       "      <td>7.465</td>\n",
       "      <td>10.489528</td>\n",
       "      <td>0.936955</td>\n",
       "    </tr>\n",
       "    <tr>\n",
       "      <th>LR(default)</th>\n",
       "      <td>10.426426</td>\n",
       "      <td>13.432264</td>\n",
       "      <td>0.89662</td>\n",
       "    </tr>\n",
       "    <tr>\n",
       "      <th>LR-SGD(default)</th>\n",
       "      <td>10.429318</td>\n",
       "      <td>13.442404</td>\n",
       "      <td>0.896463</td>\n",
       "    </tr>\n",
       "    <tr>\n",
       "      <th>Ridge(default)</th>\n",
       "      <td>10.43362</td>\n",
       "      <td>13.456077</td>\n",
       "      <td>0.896253</td>\n",
       "    </tr>\n",
       "    <tr>\n",
       "      <th>Ridge(best)</th>\n",
       "      <td>10.43362</td>\n",
       "      <td>13.456077</td>\n",
       "      <td>0.896253</td>\n",
       "    </tr>\n",
       "    <tr>\n",
       "      <th>LR-SGD(best)</th>\n",
       "      <td>10.88055</td>\n",
       "      <td>14.037045</td>\n",
       "      <td>0.887101</td>\n",
       "    </tr>\n",
       "    <tr>\n",
       "      <th>SVR(default)</th>\n",
       "      <td>12.209157</td>\n",
       "      <td>17.7752</td>\n",
       "      <td>0.818962</td>\n",
       "    </tr>\n",
       "    <tr>\n",
       "      <th>NN(default)</th>\n",
       "      <td>19.542292</td>\n",
       "      <td>23.670468</td>\n",
       "      <td>0.678964</td>\n",
       "    </tr>\n",
       "    <tr>\n",
       "      <th>GP(default)</th>\n",
       "      <td>26.807484</td>\n",
       "      <td>139.389439</td>\n",
       "      <td>-10.132677</td>\n",
       "    </tr>\n",
       "    <tr>\n",
       "      <th>KRR(default)</th>\n",
       "      <td>41.903928</td>\n",
       "      <td>48.805811</td>\n",
       "      <td>-0.364844</td>\n",
       "    </tr>\n",
       "  </tbody>\n",
       "</table>\n",
       "</div>"
      ],
      "text/plain": [
       "                       MAE        RMSE      $R^2$\n",
       "KNN(best)         7.214225    9.795668    0.94502\n",
       "RF(best)            7.4194    9.750344   0.945527\n",
       "RF(default)        7.42645    9.924838    0.94356\n",
       "KNN(default)         7.465   10.489528   0.936955\n",
       "LR(default)      10.426426   13.432264    0.89662\n",
       "LR-SGD(default)  10.429318   13.442404   0.896463\n",
       "Ridge(default)    10.43362   13.456077   0.896253\n",
       "Ridge(best)       10.43362   13.456077   0.896253\n",
       "LR-SGD(best)      10.88055   14.037045   0.887101\n",
       "SVR(default)     12.209157     17.7752   0.818962\n",
       "NN(default)      19.542292   23.670468   0.678964\n",
       "GP(default)      26.807484  139.389439 -10.132677\n",
       "KRR(default)     41.903928   48.805811  -0.364844"
      ]
     },
     "metadata": {},
     "output_type": "display_data"
    }
   ],
   "source": [
    "n_estimators = [50,100]\n",
    "criterion = ['mse', 'mae']\n",
    "max_depth = [100,None]\n",
    "min_samples_split = [2,4]\n",
    "min_samples_leaf = [2,4]\n",
    "max_features = ['auto','sqrt','log2']\n",
    "\n",
    "param_grid={\n",
    "    'n_estimators': n_estimators,\n",
    "    'criterion': criterion,\n",
    "    'max_depth':max_depth,\n",
    "    'min_samples_split':min_samples_split,\n",
    "    'min_samples_leaf':min_samples_leaf, \n",
    "    'max_features': max_features,\n",
    "}\n",
    "\n",
    "extra_scoring_cols = [\n",
    "    'param_n_estimators', \n",
    "    'param_criterion',  \n",
    "    'param_max_depth', \n",
    "    'param_min_samples_leaf', \n",
    "    'param_min_samples_split',\n",
    "    'param_max_features',\n",
    "]\n",
    "\n",
    "rf = RandomForestRegressor(random_state=random_seed, n_jobs=-1)\n",
    "rfBest = hypertune(rf, param_grid, extra_scoring_cols)\n",
    "evaluate('RF(best)', rfBest)"
   ]
  },
  {
   "cell_type": "markdown",
   "id": "efde44e7",
   "metadata": {},
   "source": [
    "### Kernel Regression"
   ]
  },
  {
   "cell_type": "code",
   "execution_count": 42,
   "id": "9f2f52c3",
   "metadata": {},
   "outputs": [
    {
     "name": "stdout",
     "output_type": "stream",
     "text": [
      "0 minutes, 1 seconds\n",
      "{\n",
      "  \"alpha\": 0.01,\n",
      "  \"kernel\": \"rbf\"\n",
      "}\n"
     ]
    },
    {
     "data": {
      "text/html": [
       "<div>\n",
       "<style scoped>\n",
       "    .dataframe tbody tr th:only-of-type {\n",
       "        vertical-align: middle;\n",
       "    }\n",
       "\n",
       "    .dataframe tbody tr th {\n",
       "        vertical-align: top;\n",
       "    }\n",
       "\n",
       "    .dataframe thead th {\n",
       "        text-align: right;\n",
       "    }\n",
       "</style>\n",
       "<table border=\"1\" class=\"dataframe\">\n",
       "  <thead>\n",
       "    <tr style=\"text-align: right;\">\n",
       "      <th></th>\n",
       "      <th>param_alpha</th>\n",
       "      <th>param_kernel</th>\n",
       "      <th>mean_test_mae</th>\n",
       "      <th>mean_test_mse</th>\n",
       "      <th>mean_test_r2</th>\n",
       "    </tr>\n",
       "  </thead>\n",
       "  <tbody>\n",
       "    <tr>\n",
       "      <th>2</th>\n",
       "      <td>0.01</td>\n",
       "      <td>rbf</td>\n",
       "      <td>-7.000097</td>\n",
       "      <td>-86.913575</td>\n",
       "      <td>0.944467</td>\n",
       "    </tr>\n",
       "    <tr>\n",
       "      <th>1</th>\n",
       "      <td>0.01</td>\n",
       "      <td>polynomial</td>\n",
       "      <td>-7.279903</td>\n",
       "      <td>-92.560738</td>\n",
       "      <td>0.940868</td>\n",
       "    </tr>\n",
       "    <tr>\n",
       "      <th>5</th>\n",
       "      <td>0.1</td>\n",
       "      <td>polynomial</td>\n",
       "      <td>-7.327127</td>\n",
       "      <td>-93.483444</td>\n",
       "      <td>0.940317</td>\n",
       "    </tr>\n",
       "    <tr>\n",
       "      <th>6</th>\n",
       "      <td>0.1</td>\n",
       "      <td>rbf</td>\n",
       "      <td>-7.411616</td>\n",
       "      <td>-95.050420</td>\n",
       "      <td>0.939293</td>\n",
       "    </tr>\n",
       "    <tr>\n",
       "      <th>9</th>\n",
       "      <td>0.5</td>\n",
       "      <td>polynomial</td>\n",
       "      <td>-7.515655</td>\n",
       "      <td>-97.363386</td>\n",
       "      <td>0.937898</td>\n",
       "    </tr>\n",
       "  </tbody>\n",
       "</table>\n",
       "</div>"
      ],
      "text/plain": [
       "  param_alpha param_kernel  mean_test_mae  mean_test_mse  mean_test_r2\n",
       "2        0.01          rbf      -7.000097     -86.913575      0.944467\n",
       "1        0.01   polynomial      -7.279903     -92.560738      0.940868\n",
       "5         0.1   polynomial      -7.327127     -93.483444      0.940317\n",
       "6         0.1          rbf      -7.411616     -95.050420      0.939293\n",
       "9         0.5   polynomial      -7.515655     -97.363386      0.937898"
      ]
     },
     "metadata": {},
     "output_type": "display_data"
    },
    {
     "data": {
      "text/html": [
       "<div>\n",
       "<style scoped>\n",
       "    .dataframe tbody tr th:only-of-type {\n",
       "        vertical-align: middle;\n",
       "    }\n",
       "\n",
       "    .dataframe tbody tr th {\n",
       "        vertical-align: top;\n",
       "    }\n",
       "\n",
       "    .dataframe thead th {\n",
       "        text-align: right;\n",
       "    }\n",
       "</style>\n",
       "<table border=\"1\" class=\"dataframe\">\n",
       "  <thead>\n",
       "    <tr style=\"text-align: right;\">\n",
       "      <th></th>\n",
       "      <th>MAE</th>\n",
       "      <th>RMSE</th>\n",
       "      <th>$R^2$</th>\n",
       "    </tr>\n",
       "  </thead>\n",
       "  <tbody>\n",
       "    <tr>\n",
       "      <th>KRR(best)</th>\n",
       "      <td>6.749738</td>\n",
       "      <td>9.072946</td>\n",
       "      <td>0.952833</td>\n",
       "    </tr>\n",
       "    <tr>\n",
       "      <th>KNN(best)</th>\n",
       "      <td>7.214225</td>\n",
       "      <td>9.795668</td>\n",
       "      <td>0.94502</td>\n",
       "    </tr>\n",
       "    <tr>\n",
       "      <th>RF(best)</th>\n",
       "      <td>7.4194</td>\n",
       "      <td>9.750344</td>\n",
       "      <td>0.945527</td>\n",
       "    </tr>\n",
       "    <tr>\n",
       "      <th>RF(default)</th>\n",
       "      <td>7.42645</td>\n",
       "      <td>9.924838</td>\n",
       "      <td>0.94356</td>\n",
       "    </tr>\n",
       "    <tr>\n",
       "      <th>KNN(default)</th>\n",
       "      <td>7.465</td>\n",
       "      <td>10.489528</td>\n",
       "      <td>0.936955</td>\n",
       "    </tr>\n",
       "    <tr>\n",
       "      <th>LR(default)</th>\n",
       "      <td>10.426426</td>\n",
       "      <td>13.432264</td>\n",
       "      <td>0.89662</td>\n",
       "    </tr>\n",
       "    <tr>\n",
       "      <th>LR-SGD(default)</th>\n",
       "      <td>10.429318</td>\n",
       "      <td>13.442404</td>\n",
       "      <td>0.896463</td>\n",
       "    </tr>\n",
       "    <tr>\n",
       "      <th>Ridge(default)</th>\n",
       "      <td>10.43362</td>\n",
       "      <td>13.456077</td>\n",
       "      <td>0.896253</td>\n",
       "    </tr>\n",
       "    <tr>\n",
       "      <th>Ridge(best)</th>\n",
       "      <td>10.43362</td>\n",
       "      <td>13.456077</td>\n",
       "      <td>0.896253</td>\n",
       "    </tr>\n",
       "    <tr>\n",
       "      <th>LR-SGD(best)</th>\n",
       "      <td>10.88055</td>\n",
       "      <td>14.037045</td>\n",
       "      <td>0.887101</td>\n",
       "    </tr>\n",
       "    <tr>\n",
       "      <th>SVR(default)</th>\n",
       "      <td>12.209157</td>\n",
       "      <td>17.7752</td>\n",
       "      <td>0.818962</td>\n",
       "    </tr>\n",
       "    <tr>\n",
       "      <th>NN(default)</th>\n",
       "      <td>19.542292</td>\n",
       "      <td>23.670468</td>\n",
       "      <td>0.678964</td>\n",
       "    </tr>\n",
       "    <tr>\n",
       "      <th>GP(default)</th>\n",
       "      <td>26.807484</td>\n",
       "      <td>139.389439</td>\n",
       "      <td>-10.132677</td>\n",
       "    </tr>\n",
       "    <tr>\n",
       "      <th>KRR(default)</th>\n",
       "      <td>41.903928</td>\n",
       "      <td>48.805811</td>\n",
       "      <td>-0.364844</td>\n",
       "    </tr>\n",
       "  </tbody>\n",
       "</table>\n",
       "</div>"
      ],
      "text/plain": [
       "                       MAE        RMSE      $R^2$\n",
       "KRR(best)         6.749738    9.072946   0.952833\n",
       "KNN(best)         7.214225    9.795668    0.94502\n",
       "RF(best)            7.4194    9.750344   0.945527\n",
       "RF(default)        7.42645    9.924838    0.94356\n",
       "KNN(default)         7.465   10.489528   0.936955\n",
       "LR(default)      10.426426   13.432264    0.89662\n",
       "LR-SGD(default)  10.429318   13.442404   0.896463\n",
       "Ridge(default)    10.43362   13.456077   0.896253\n",
       "Ridge(best)       10.43362   13.456077   0.896253\n",
       "LR-SGD(best)      10.88055   14.037045   0.887101\n",
       "SVR(default)     12.209157     17.7752   0.818962\n",
       "NN(default)      19.542292   23.670468   0.678964\n",
       "GP(default)      26.807484  139.389439 -10.132677\n",
       "KRR(default)     41.903928   48.805811  -0.364844"
      ]
     },
     "metadata": {},
     "output_type": "display_data"
    }
   ],
   "source": [
    "alpha = [0.01,0.1,0.5,1,5]\n",
    "kernel = ['linear','polynomial','rbf','sigmoid']\n",
    "\n",
    "param_grid={\n",
    "    'alpha': alpha,\n",
    "    'kernel': kernel\n",
    "}\n",
    "\n",
    "extra_scoring_cols = [\n",
    "    'param_alpha', \n",
    "    'param_kernel'\n",
    "]\n",
    "\n",
    "krr = KernelRidge()\n",
    "krrBest = hypertune(krr, param_grid, extra_scoring_cols)\n",
    "evaluate('KRR(best)', krrBest)"
   ]
  },
  {
   "cell_type": "markdown",
   "id": "56276226",
   "metadata": {},
   "source": [
    "### Gaussian Process"
   ]
  },
  {
   "cell_type": "code",
   "execution_count": 43,
   "id": "98dbfdde",
   "metadata": {},
   "outputs": [
    {
     "name": "stdout",
     "output_type": "stream",
     "text": [
      "0 minutes, 5 seconds\n"
     ]
    },
    {
     "data": {
      "text/html": [
       "<div>\n",
       "<style scoped>\n",
       "    .dataframe tbody tr th:only-of-type {\n",
       "        vertical-align: middle;\n",
       "    }\n",
       "\n",
       "    .dataframe tbody tr th {\n",
       "        vertical-align: top;\n",
       "    }\n",
       "\n",
       "    .dataframe thead th {\n",
       "        text-align: right;\n",
       "    }\n",
       "</style>\n",
       "<table border=\"1\" class=\"dataframe\">\n",
       "  <thead>\n",
       "    <tr style=\"text-align: right;\">\n",
       "      <th></th>\n",
       "      <th>MAE</th>\n",
       "      <th>RMSE</th>\n",
       "      <th>$R^2$</th>\n",
       "    </tr>\n",
       "  </thead>\n",
       "  <tbody>\n",
       "    <tr>\n",
       "      <th>KRR(best)</th>\n",
       "      <td>6.749738</td>\n",
       "      <td>9.072946</td>\n",
       "      <td>0.952833</td>\n",
       "    </tr>\n",
       "    <tr>\n",
       "      <th>KNN(best)</th>\n",
       "      <td>7.214225</td>\n",
       "      <td>9.795668</td>\n",
       "      <td>0.94502</td>\n",
       "    </tr>\n",
       "    <tr>\n",
       "      <th>RF(best)</th>\n",
       "      <td>7.4194</td>\n",
       "      <td>9.750344</td>\n",
       "      <td>0.945527</td>\n",
       "    </tr>\n",
       "    <tr>\n",
       "      <th>RF(default)</th>\n",
       "      <td>7.42645</td>\n",
       "      <td>9.924838</td>\n",
       "      <td>0.94356</td>\n",
       "    </tr>\n",
       "    <tr>\n",
       "      <th>KNN(default)</th>\n",
       "      <td>7.465</td>\n",
       "      <td>10.489528</td>\n",
       "      <td>0.936955</td>\n",
       "    </tr>\n",
       "    <tr>\n",
       "      <th>LR(default)</th>\n",
       "      <td>10.426426</td>\n",
       "      <td>13.432264</td>\n",
       "      <td>0.89662</td>\n",
       "    </tr>\n",
       "    <tr>\n",
       "      <th>GP(best)</th>\n",
       "      <td>10.426458</td>\n",
       "      <td>13.432451</td>\n",
       "      <td>0.896617</td>\n",
       "    </tr>\n",
       "    <tr>\n",
       "      <th>LR-SGD(default)</th>\n",
       "      <td>10.429318</td>\n",
       "      <td>13.442404</td>\n",
       "      <td>0.896463</td>\n",
       "    </tr>\n",
       "    <tr>\n",
       "      <th>Ridge(default)</th>\n",
       "      <td>10.43362</td>\n",
       "      <td>13.456077</td>\n",
       "      <td>0.896253</td>\n",
       "    </tr>\n",
       "    <tr>\n",
       "      <th>Ridge(best)</th>\n",
       "      <td>10.43362</td>\n",
       "      <td>13.456077</td>\n",
       "      <td>0.896253</td>\n",
       "    </tr>\n",
       "    <tr>\n",
       "      <th>LR-SGD(best)</th>\n",
       "      <td>10.88055</td>\n",
       "      <td>14.037045</td>\n",
       "      <td>0.887101</td>\n",
       "    </tr>\n",
       "    <tr>\n",
       "      <th>SVR(default)</th>\n",
       "      <td>12.209157</td>\n",
       "      <td>17.7752</td>\n",
       "      <td>0.818962</td>\n",
       "    </tr>\n",
       "    <tr>\n",
       "      <th>NN(default)</th>\n",
       "      <td>19.542292</td>\n",
       "      <td>23.670468</td>\n",
       "      <td>0.678964</td>\n",
       "    </tr>\n",
       "    <tr>\n",
       "      <th>GP(default)</th>\n",
       "      <td>26.807484</td>\n",
       "      <td>139.389439</td>\n",
       "      <td>-10.132677</td>\n",
       "    </tr>\n",
       "    <tr>\n",
       "      <th>KRR(default)</th>\n",
       "      <td>41.903928</td>\n",
       "      <td>48.805811</td>\n",
       "      <td>-0.364844</td>\n",
       "    </tr>\n",
       "  </tbody>\n",
       "</table>\n",
       "</div>"
      ],
      "text/plain": [
       "                       MAE        RMSE      $R^2$\n",
       "KRR(best)         6.749738    9.072946   0.952833\n",
       "KNN(best)         7.214225    9.795668    0.94502\n",
       "RF(best)            7.4194    9.750344   0.945527\n",
       "RF(default)        7.42645    9.924838    0.94356\n",
       "KNN(default)         7.465   10.489528   0.936955\n",
       "LR(default)      10.426426   13.432264    0.89662\n",
       "GP(best)         10.426458   13.432451   0.896617\n",
       "LR-SGD(default)  10.429318   13.442404   0.896463\n",
       "Ridge(default)    10.43362   13.456077   0.896253\n",
       "Ridge(best)       10.43362   13.456077   0.896253\n",
       "LR-SGD(best)      10.88055   14.037045   0.887101\n",
       "SVR(default)     12.209157     17.7752   0.818962\n",
       "NN(default)      19.542292   23.670468   0.678964\n",
       "GP(default)      26.807484  139.389439 -10.132677\n",
       "KRR(default)     41.903928   48.805811  -0.364844"
      ]
     },
     "metadata": {},
     "output_type": "display_data"
    }
   ],
   "source": [
    "from sklearn.gaussian_process.kernels import DotProduct, RBF\n",
    "\n",
    "kernel = [DotProduct(), RBF()]\n",
    "param_grid={\n",
    "    'kernel': kernel,\n",
    "}\n",
    "\n",
    "extra_scoring_cols = [\n",
    "    'param_kernel', \n",
    "]\n",
    "\n",
    "gp = GaussianProcessRegressor(random_state=random_seed)\n",
    "gpBest = hypertune(gp, param_grid, extra_scoring_cols, print_scores=False)\n",
    "evaluate('GP(best)', gpBest)"
   ]
  },
  {
   "cell_type": "markdown",
   "id": "f50d62d6",
   "metadata": {},
   "source": [
    "### SVR"
   ]
  },
  {
   "cell_type": "code",
   "execution_count": 44,
   "id": "fb95c5db",
   "metadata": {},
   "outputs": [
    {
     "name": "stdout",
     "output_type": "stream",
     "text": [
      "0 minutes, 15 seconds\n",
      "{\n",
      "  \"C\": 100,\n",
      "  \"degree\": 2,\n",
      "  \"gamma\": \"scale\",\n",
      "  \"kernel\": \"linear\"\n",
      "}\n"
     ]
    },
    {
     "data": {
      "text/html": [
       "<div>\n",
       "<style scoped>\n",
       "    .dataframe tbody tr th:only-of-type {\n",
       "        vertical-align: middle;\n",
       "    }\n",
       "\n",
       "    .dataframe tbody tr th {\n",
       "        vertical-align: top;\n",
       "    }\n",
       "\n",
       "    .dataframe thead th {\n",
       "        text-align: right;\n",
       "    }\n",
       "</style>\n",
       "<table border=\"1\" class=\"dataframe\">\n",
       "  <thead>\n",
       "    <tr style=\"text-align: right;\">\n",
       "      <th></th>\n",
       "      <th>param_kernel</th>\n",
       "      <th>param_C</th>\n",
       "      <th>param_degree</th>\n",
       "      <th>param_gamma</th>\n",
       "      <th>mean_test_mae</th>\n",
       "      <th>mean_test_mse</th>\n",
       "      <th>mean_test_r2</th>\n",
       "    </tr>\n",
       "  </thead>\n",
       "  <tbody>\n",
       "    <tr>\n",
       "      <th>222</th>\n",
       "      <td>linear</td>\n",
       "      <td>100</td>\n",
       "      <td>3</td>\n",
       "      <td>scale</td>\n",
       "      <td>-10.453196</td>\n",
       "      <td>-182.030471</td>\n",
       "      <td>0.883204</td>\n",
       "    </tr>\n",
       "    <tr>\n",
       "      <th>237</th>\n",
       "      <td>linear</td>\n",
       "      <td>100</td>\n",
       "      <td>7</td>\n",
       "      <td>auto</td>\n",
       "      <td>-10.453196</td>\n",
       "      <td>-182.030471</td>\n",
       "      <td>0.883204</td>\n",
       "    </tr>\n",
       "    <tr>\n",
       "      <th>234</th>\n",
       "      <td>linear</td>\n",
       "      <td>100</td>\n",
       "      <td>7</td>\n",
       "      <td>scale</td>\n",
       "      <td>-10.453196</td>\n",
       "      <td>-182.030471</td>\n",
       "      <td>0.883204</td>\n",
       "    </tr>\n",
       "    <tr>\n",
       "      <th>216</th>\n",
       "      <td>linear</td>\n",
       "      <td>100</td>\n",
       "      <td>2</td>\n",
       "      <td>scale</td>\n",
       "      <td>-10.453196</td>\n",
       "      <td>-182.030471</td>\n",
       "      <td>0.883204</td>\n",
       "    </tr>\n",
       "    <tr>\n",
       "      <th>231</th>\n",
       "      <td>linear</td>\n",
       "      <td>100</td>\n",
       "      <td>5</td>\n",
       "      <td>auto</td>\n",
       "      <td>-10.453196</td>\n",
       "      <td>-182.030471</td>\n",
       "      <td>0.883204</td>\n",
       "    </tr>\n",
       "  </tbody>\n",
       "</table>\n",
       "</div>"
      ],
      "text/plain": [
       "    param_kernel param_C param_degree param_gamma  mean_test_mae  \\\n",
       "222       linear     100            3       scale     -10.453196   \n",
       "237       linear     100            7        auto     -10.453196   \n",
       "234       linear     100            7       scale     -10.453196   \n",
       "216       linear     100            2       scale     -10.453196   \n",
       "231       linear     100            5        auto     -10.453196   \n",
       "\n",
       "     mean_test_mse  mean_test_r2  \n",
       "222    -182.030471      0.883204  \n",
       "237    -182.030471      0.883204  \n",
       "234    -182.030471      0.883204  \n",
       "216    -182.030471      0.883204  \n",
       "231    -182.030471      0.883204  "
      ]
     },
     "metadata": {},
     "output_type": "display_data"
    },
    {
     "data": {
      "text/html": [
       "<div>\n",
       "<style scoped>\n",
       "    .dataframe tbody tr th:only-of-type {\n",
       "        vertical-align: middle;\n",
       "    }\n",
       "\n",
       "    .dataframe tbody tr th {\n",
       "        vertical-align: top;\n",
       "    }\n",
       "\n",
       "    .dataframe thead th {\n",
       "        text-align: right;\n",
       "    }\n",
       "</style>\n",
       "<table border=\"1\" class=\"dataframe\">\n",
       "  <thead>\n",
       "    <tr style=\"text-align: right;\">\n",
       "      <th></th>\n",
       "      <th>MAE</th>\n",
       "      <th>RMSE</th>\n",
       "      <th>$R^2$</th>\n",
       "    </tr>\n",
       "  </thead>\n",
       "  <tbody>\n",
       "    <tr>\n",
       "      <th>KRR(best)</th>\n",
       "      <td>6.749738</td>\n",
       "      <td>9.072946</td>\n",
       "      <td>0.952833</td>\n",
       "    </tr>\n",
       "    <tr>\n",
       "      <th>KNN(best)</th>\n",
       "      <td>7.214225</td>\n",
       "      <td>9.795668</td>\n",
       "      <td>0.94502</td>\n",
       "    </tr>\n",
       "    <tr>\n",
       "      <th>RF(best)</th>\n",
       "      <td>7.4194</td>\n",
       "      <td>9.750344</td>\n",
       "      <td>0.945527</td>\n",
       "    </tr>\n",
       "    <tr>\n",
       "      <th>RF(default)</th>\n",
       "      <td>7.42645</td>\n",
       "      <td>9.924838</td>\n",
       "      <td>0.94356</td>\n",
       "    </tr>\n",
       "    <tr>\n",
       "      <th>KNN(default)</th>\n",
       "      <td>7.465</td>\n",
       "      <td>10.489528</td>\n",
       "      <td>0.936955</td>\n",
       "    </tr>\n",
       "    <tr>\n",
       "      <th>LR(default)</th>\n",
       "      <td>10.426426</td>\n",
       "      <td>13.432264</td>\n",
       "      <td>0.89662</td>\n",
       "    </tr>\n",
       "    <tr>\n",
       "      <th>GP(best)</th>\n",
       "      <td>10.426458</td>\n",
       "      <td>13.432451</td>\n",
       "      <td>0.896617</td>\n",
       "    </tr>\n",
       "    <tr>\n",
       "      <th>LR-SGD(default)</th>\n",
       "      <td>10.429318</td>\n",
       "      <td>13.442404</td>\n",
       "      <td>0.896463</td>\n",
       "    </tr>\n",
       "    <tr>\n",
       "      <th>Ridge(default)</th>\n",
       "      <td>10.43362</td>\n",
       "      <td>13.456077</td>\n",
       "      <td>0.896253</td>\n",
       "    </tr>\n",
       "    <tr>\n",
       "      <th>Ridge(best)</th>\n",
       "      <td>10.43362</td>\n",
       "      <td>13.456077</td>\n",
       "      <td>0.896253</td>\n",
       "    </tr>\n",
       "    <tr>\n",
       "      <th>SVR(best)</th>\n",
       "      <td>10.433912</td>\n",
       "      <td>13.576324</td>\n",
       "      <td>0.89439</td>\n",
       "    </tr>\n",
       "    <tr>\n",
       "      <th>LR-SGD(best)</th>\n",
       "      <td>10.88055</td>\n",
       "      <td>14.037045</td>\n",
       "      <td>0.887101</td>\n",
       "    </tr>\n",
       "    <tr>\n",
       "      <th>SVR(default)</th>\n",
       "      <td>12.209157</td>\n",
       "      <td>17.7752</td>\n",
       "      <td>0.818962</td>\n",
       "    </tr>\n",
       "    <tr>\n",
       "      <th>NN(default)</th>\n",
       "      <td>19.542292</td>\n",
       "      <td>23.670468</td>\n",
       "      <td>0.678964</td>\n",
       "    </tr>\n",
       "    <tr>\n",
       "      <th>GP(default)</th>\n",
       "      <td>26.807484</td>\n",
       "      <td>139.389439</td>\n",
       "      <td>-10.132677</td>\n",
       "    </tr>\n",
       "    <tr>\n",
       "      <th>KRR(default)</th>\n",
       "      <td>41.903928</td>\n",
       "      <td>48.805811</td>\n",
       "      <td>-0.364844</td>\n",
       "    </tr>\n",
       "  </tbody>\n",
       "</table>\n",
       "</div>"
      ],
      "text/plain": [
       "                       MAE        RMSE      $R^2$\n",
       "KRR(best)         6.749738    9.072946   0.952833\n",
       "KNN(best)         7.214225    9.795668    0.94502\n",
       "RF(best)            7.4194    9.750344   0.945527\n",
       "RF(default)        7.42645    9.924838    0.94356\n",
       "KNN(default)         7.465   10.489528   0.936955\n",
       "LR(default)      10.426426   13.432264    0.89662\n",
       "GP(best)         10.426458   13.432451   0.896617\n",
       "LR-SGD(default)  10.429318   13.442404   0.896463\n",
       "Ridge(default)    10.43362   13.456077   0.896253\n",
       "Ridge(best)       10.43362   13.456077   0.896253\n",
       "SVR(best)        10.433912   13.576324    0.89439\n",
       "LR-SGD(best)      10.88055   14.037045   0.887101\n",
       "SVR(default)     12.209157     17.7752   0.818962\n",
       "NN(default)      19.542292   23.670468   0.678964\n",
       "GP(default)      26.807484  139.389439 -10.132677\n",
       "KRR(default)     41.903928   48.805811  -0.364844"
      ]
     },
     "metadata": {},
     "output_type": "display_data"
    }
   ],
   "source": [
    "kernel = ['linear', 'poly', 'sigmoid']\n",
    "degree = [2,3,5,7]\n",
    "gamma = ['scale', 'auto']\n",
    "C = [0.00001,0.0001,0.001,0.01,0.1,0.5,1,5,10,100]\n",
    "\n",
    "param_grid={\n",
    "    'kernel':kernel,\n",
    "    'degree': degree,\n",
    "    'gamma': gamma,\n",
    "    'C': C,\n",
    "}\n",
    "\n",
    "extra_scoring_cols = [\n",
    "    'param_kernel',\n",
    "    'param_C',\n",
    "    'param_degree',\n",
    "    'param_gamma',\n",
    "]\n",
    "\n",
    "svr = SVR()\n",
    "svrBest = hypertune(svr, param_grid, extra_scoring_cols)\n",
    "evaluate('SVR(best)', svrBest)"
   ]
  },
  {
   "cell_type": "markdown",
   "id": "bd22686f",
   "metadata": {},
   "source": [
    "### Neural Networks"
   ]
  },
  {
   "cell_type": "code",
   "execution_count": 45,
   "id": "0dd98b8a",
   "metadata": {},
   "outputs": [
    {
     "name": "stdout",
     "output_type": "stream",
     "text": [
      "0 minutes, 14 seconds\n",
      "{\n",
      "  \"alpha\": 0.01,\n",
      "  \"hidden_layer_sizes\": [\n",
      "    8,\n",
      "    8,\n",
      "    8\n",
      "  ]\n",
      "}\n"
     ]
    },
    {
     "data": {
      "text/html": [
       "<div>\n",
       "<style scoped>\n",
       "    .dataframe tbody tr th:only-of-type {\n",
       "        vertical-align: middle;\n",
       "    }\n",
       "\n",
       "    .dataframe tbody tr th {\n",
       "        vertical-align: top;\n",
       "    }\n",
       "\n",
       "    .dataframe thead th {\n",
       "        text-align: right;\n",
       "    }\n",
       "</style>\n",
       "<table border=\"1\" class=\"dataframe\">\n",
       "  <thead>\n",
       "    <tr style=\"text-align: right;\">\n",
       "      <th></th>\n",
       "      <th>param_hidden_layer_sizes</th>\n",
       "      <th>param_alpha</th>\n",
       "      <th>mean_test_mae</th>\n",
       "      <th>mean_test_mse</th>\n",
       "      <th>mean_test_r2</th>\n",
       "    </tr>\n",
       "  </thead>\n",
       "  <tbody>\n",
       "    <tr>\n",
       "      <th>47</th>\n",
       "      <td>[8, 8, 8]</td>\n",
       "      <td>0.01</td>\n",
       "      <td>-6.844725</td>\n",
       "      <td>-87.899452</td>\n",
       "      <td>0.943695</td>\n",
       "    </tr>\n",
       "    <tr>\n",
       "      <th>55</th>\n",
       "      <td>[8, 8]</td>\n",
       "      <td>0.1</td>\n",
       "      <td>-6.882325</td>\n",
       "      <td>-89.138209</td>\n",
       "      <td>0.943247</td>\n",
       "    </tr>\n",
       "    <tr>\n",
       "      <th>67</th>\n",
       "      <td>[8, 8]</td>\n",
       "      <td>0.5</td>\n",
       "      <td>-6.884251</td>\n",
       "      <td>-88.484174</td>\n",
       "      <td>0.943535</td>\n",
       "    </tr>\n",
       "    <tr>\n",
       "      <th>35</th>\n",
       "      <td>[8, 8, 8]</td>\n",
       "      <td>0.001</td>\n",
       "      <td>-6.891949</td>\n",
       "      <td>-87.254180</td>\n",
       "      <td>0.944317</td>\n",
       "    </tr>\n",
       "    <tr>\n",
       "      <th>71</th>\n",
       "      <td>[8, 8, 8]</td>\n",
       "      <td>0.5</td>\n",
       "      <td>-6.899091</td>\n",
       "      <td>-88.478962</td>\n",
       "      <td>0.943576</td>\n",
       "    </tr>\n",
       "  </tbody>\n",
       "</table>\n",
       "</div>"
      ],
      "text/plain": [
       "   param_hidden_layer_sizes param_alpha  mean_test_mae  mean_test_mse  \\\n",
       "47                [8, 8, 8]        0.01      -6.844725     -87.899452   \n",
       "55                   [8, 8]         0.1      -6.882325     -89.138209   \n",
       "67                   [8, 8]         0.5      -6.884251     -88.484174   \n",
       "35                [8, 8, 8]       0.001      -6.891949     -87.254180   \n",
       "71                [8, 8, 8]         0.5      -6.899091     -88.478962   \n",
       "\n",
       "    mean_test_r2  \n",
       "47      0.943695  \n",
       "55      0.943247  \n",
       "67      0.943535  \n",
       "35      0.944317  \n",
       "71      0.943576  "
      ]
     },
     "metadata": {},
     "output_type": "display_data"
    },
    {
     "data": {
      "text/html": [
       "<div>\n",
       "<style scoped>\n",
       "    .dataframe tbody tr th:only-of-type {\n",
       "        vertical-align: middle;\n",
       "    }\n",
       "\n",
       "    .dataframe tbody tr th {\n",
       "        vertical-align: top;\n",
       "    }\n",
       "\n",
       "    .dataframe thead th {\n",
       "        text-align: right;\n",
       "    }\n",
       "</style>\n",
       "<table border=\"1\" class=\"dataframe\">\n",
       "  <thead>\n",
       "    <tr style=\"text-align: right;\">\n",
       "      <th></th>\n",
       "      <th>MAE</th>\n",
       "      <th>RMSE</th>\n",
       "      <th>$R^2$</th>\n",
       "    </tr>\n",
       "  </thead>\n",
       "  <tbody>\n",
       "    <tr>\n",
       "      <th>KRR(best)</th>\n",
       "      <td>6.749738</td>\n",
       "      <td>9.072946</td>\n",
       "      <td>0.952833</td>\n",
       "    </tr>\n",
       "    <tr>\n",
       "      <th>KNN(best)</th>\n",
       "      <td>7.214225</td>\n",
       "      <td>9.795668</td>\n",
       "      <td>0.94502</td>\n",
       "    </tr>\n",
       "    <tr>\n",
       "      <th>NN(best)</th>\n",
       "      <td>7.264912</td>\n",
       "      <td>9.19834</td>\n",
       "      <td>0.95152</td>\n",
       "    </tr>\n",
       "    <tr>\n",
       "      <th>RF(best)</th>\n",
       "      <td>7.4194</td>\n",
       "      <td>9.750344</td>\n",
       "      <td>0.945527</td>\n",
       "    </tr>\n",
       "    <tr>\n",
       "      <th>RF(default)</th>\n",
       "      <td>7.42645</td>\n",
       "      <td>9.924838</td>\n",
       "      <td>0.94356</td>\n",
       "    </tr>\n",
       "    <tr>\n",
       "      <th>KNN(default)</th>\n",
       "      <td>7.465</td>\n",
       "      <td>10.489528</td>\n",
       "      <td>0.936955</td>\n",
       "    </tr>\n",
       "    <tr>\n",
       "      <th>LR(default)</th>\n",
       "      <td>10.426426</td>\n",
       "      <td>13.432264</td>\n",
       "      <td>0.89662</td>\n",
       "    </tr>\n",
       "    <tr>\n",
       "      <th>GP(best)</th>\n",
       "      <td>10.426458</td>\n",
       "      <td>13.432451</td>\n",
       "      <td>0.896617</td>\n",
       "    </tr>\n",
       "    <tr>\n",
       "      <th>LR-SGD(default)</th>\n",
       "      <td>10.429318</td>\n",
       "      <td>13.442404</td>\n",
       "      <td>0.896463</td>\n",
       "    </tr>\n",
       "    <tr>\n",
       "      <th>Ridge(best)</th>\n",
       "      <td>10.43362</td>\n",
       "      <td>13.456077</td>\n",
       "      <td>0.896253</td>\n",
       "    </tr>\n",
       "    <tr>\n",
       "      <th>Ridge(default)</th>\n",
       "      <td>10.43362</td>\n",
       "      <td>13.456077</td>\n",
       "      <td>0.896253</td>\n",
       "    </tr>\n",
       "    <tr>\n",
       "      <th>SVR(best)</th>\n",
       "      <td>10.433912</td>\n",
       "      <td>13.576324</td>\n",
       "      <td>0.89439</td>\n",
       "    </tr>\n",
       "    <tr>\n",
       "      <th>LR-SGD(best)</th>\n",
       "      <td>10.88055</td>\n",
       "      <td>14.037045</td>\n",
       "      <td>0.887101</td>\n",
       "    </tr>\n",
       "    <tr>\n",
       "      <th>SVR(default)</th>\n",
       "      <td>12.209157</td>\n",
       "      <td>17.7752</td>\n",
       "      <td>0.818962</td>\n",
       "    </tr>\n",
       "    <tr>\n",
       "      <th>NN(default)</th>\n",
       "      <td>19.542292</td>\n",
       "      <td>23.670468</td>\n",
       "      <td>0.678964</td>\n",
       "    </tr>\n",
       "    <tr>\n",
       "      <th>GP(default)</th>\n",
       "      <td>26.807484</td>\n",
       "      <td>139.389439</td>\n",
       "      <td>-10.132677</td>\n",
       "    </tr>\n",
       "    <tr>\n",
       "      <th>KRR(default)</th>\n",
       "      <td>41.903928</td>\n",
       "      <td>48.805811</td>\n",
       "      <td>-0.364844</td>\n",
       "    </tr>\n",
       "  </tbody>\n",
       "</table>\n",
       "</div>"
      ],
      "text/plain": [
       "                       MAE        RMSE      $R^2$\n",
       "KRR(best)         6.749738    9.072946   0.952833\n",
       "KNN(best)         7.214225    9.795668    0.94502\n",
       "NN(best)          7.264912     9.19834    0.95152\n",
       "RF(best)            7.4194    9.750344   0.945527\n",
       "RF(default)        7.42645    9.924838    0.94356\n",
       "KNN(default)         7.465   10.489528   0.936955\n",
       "LR(default)      10.426426   13.432264    0.89662\n",
       "GP(best)         10.426458   13.432451   0.896617\n",
       "LR-SGD(default)  10.429318   13.442404   0.896463\n",
       "Ridge(best)       10.43362   13.456077   0.896253\n",
       "Ridge(default)    10.43362   13.456077   0.896253\n",
       "SVR(best)        10.433912   13.576324    0.89439\n",
       "LR-SGD(best)      10.88055   14.037045   0.887101\n",
       "SVR(default)     12.209157     17.7752   0.818962\n",
       "NN(default)      19.542292   23.670468   0.678964\n",
       "GP(default)      26.807484  139.389439 -10.132677\n",
       "KRR(default)     41.903928   48.805811  -0.364844"
      ]
     },
     "metadata": {},
     "output_type": "display_data"
    }
   ],
   "source": [
    "sizes = [2*i for i in range(1,5)]\n",
    "sizes = sizes + [[2*i,2*i] for i in range(1,5)]\n",
    "sizes = sizes + [[2*i,2*i, 2*i] for i in range(1,5)]\n",
    "alpha = [0.00001,0.0001,0.001,0.01,0.1,0.5,1]\n",
    "\n",
    "param_grid={\n",
    "    'hidden_layer_sizes':sizes,\n",
    "    'alpha':alpha\n",
    "}\n",
    "\n",
    "extra_scoring_cols = [\n",
    "    'param_hidden_layer_sizes', \n",
    "    'param_alpha',\n",
    "]\n",
    "\n",
    "nn = MLPRegressor(\n",
    "    solver='lbfgs', \n",
    "    activation='relu',\n",
    "    random_state=random_seed,\n",
    "    max_iter=500\n",
    ")\n",
    "nnBest = hypertune(nn, param_grid, extra_scoring_cols)\n",
    "evaluate('NN(best)', nnBest)"
   ]
  },
  {
   "cell_type": "markdown",
   "id": "accb9e48",
   "metadata": {},
   "source": [
    "## Model Evaluation & Results"
   ]
  },
  {
   "cell_type": "code",
   "execution_count": 46,
   "id": "c07d8c00",
   "metadata": {},
   "outputs": [
    {
     "data": {
      "text/html": [
       "<div>\n",
       "<style scoped>\n",
       "    .dataframe tbody tr th:only-of-type {\n",
       "        vertical-align: middle;\n",
       "    }\n",
       "\n",
       "    .dataframe tbody tr th {\n",
       "        vertical-align: top;\n",
       "    }\n",
       "\n",
       "    .dataframe thead th {\n",
       "        text-align: right;\n",
       "    }\n",
       "</style>\n",
       "<table border=\"1\" class=\"dataframe\">\n",
       "  <thead>\n",
       "    <tr style=\"text-align: right;\">\n",
       "      <th></th>\n",
       "      <th>MAE</th>\n",
       "      <th>RMSE</th>\n",
       "      <th>$R^2$</th>\n",
       "    </tr>\n",
       "  </thead>\n",
       "  <tbody>\n",
       "    <tr>\n",
       "      <th>KRR(best)</th>\n",
       "      <td>6.749738</td>\n",
       "      <td>9.072946</td>\n",
       "      <td>0.952833</td>\n",
       "    </tr>\n",
       "    <tr>\n",
       "      <th>KNN(best)</th>\n",
       "      <td>7.214225</td>\n",
       "      <td>9.795668</td>\n",
       "      <td>0.94502</td>\n",
       "    </tr>\n",
       "    <tr>\n",
       "      <th>NN(best)</th>\n",
       "      <td>7.264912</td>\n",
       "      <td>9.19834</td>\n",
       "      <td>0.95152</td>\n",
       "    </tr>\n",
       "    <tr>\n",
       "      <th>RF(best)</th>\n",
       "      <td>7.4194</td>\n",
       "      <td>9.750344</td>\n",
       "      <td>0.945527</td>\n",
       "    </tr>\n",
       "    <tr>\n",
       "      <th>RF(default)</th>\n",
       "      <td>7.42645</td>\n",
       "      <td>9.924838</td>\n",
       "      <td>0.94356</td>\n",
       "    </tr>\n",
       "    <tr>\n",
       "      <th>KNN(default)</th>\n",
       "      <td>7.465</td>\n",
       "      <td>10.489528</td>\n",
       "      <td>0.936955</td>\n",
       "    </tr>\n",
       "    <tr>\n",
       "      <th>LR(default)</th>\n",
       "      <td>10.426426</td>\n",
       "      <td>13.432264</td>\n",
       "      <td>0.89662</td>\n",
       "    </tr>\n",
       "    <tr>\n",
       "      <th>GP(best)</th>\n",
       "      <td>10.426458</td>\n",
       "      <td>13.432451</td>\n",
       "      <td>0.896617</td>\n",
       "    </tr>\n",
       "    <tr>\n",
       "      <th>LR-SGD(default)</th>\n",
       "      <td>10.429318</td>\n",
       "      <td>13.442404</td>\n",
       "      <td>0.896463</td>\n",
       "    </tr>\n",
       "    <tr>\n",
       "      <th>Ridge(best)</th>\n",
       "      <td>10.43362</td>\n",
       "      <td>13.456077</td>\n",
       "      <td>0.896253</td>\n",
       "    </tr>\n",
       "    <tr>\n",
       "      <th>Ridge(default)</th>\n",
       "      <td>10.43362</td>\n",
       "      <td>13.456077</td>\n",
       "      <td>0.896253</td>\n",
       "    </tr>\n",
       "    <tr>\n",
       "      <th>SVR(best)</th>\n",
       "      <td>10.433912</td>\n",
       "      <td>13.576324</td>\n",
       "      <td>0.89439</td>\n",
       "    </tr>\n",
       "    <tr>\n",
       "      <th>LR-SGD(best)</th>\n",
       "      <td>10.88055</td>\n",
       "      <td>14.037045</td>\n",
       "      <td>0.887101</td>\n",
       "    </tr>\n",
       "    <tr>\n",
       "      <th>SVR(default)</th>\n",
       "      <td>12.209157</td>\n",
       "      <td>17.7752</td>\n",
       "      <td>0.818962</td>\n",
       "    </tr>\n",
       "    <tr>\n",
       "      <th>NN(default)</th>\n",
       "      <td>19.542292</td>\n",
       "      <td>23.670468</td>\n",
       "      <td>0.678964</td>\n",
       "    </tr>\n",
       "    <tr>\n",
       "      <th>GP(default)</th>\n",
       "      <td>26.807484</td>\n",
       "      <td>139.389439</td>\n",
       "      <td>-10.132677</td>\n",
       "    </tr>\n",
       "    <tr>\n",
       "      <th>KRR(default)</th>\n",
       "      <td>41.903928</td>\n",
       "      <td>48.805811</td>\n",
       "      <td>-0.364844</td>\n",
       "    </tr>\n",
       "  </tbody>\n",
       "</table>\n",
       "</div>"
      ],
      "text/plain": [
       "                       MAE        RMSE      $R^2$\n",
       "KRR(best)         6.749738    9.072946   0.952833\n",
       "KNN(best)         7.214225    9.795668    0.94502\n",
       "NN(best)          7.264912     9.19834    0.95152\n",
       "RF(best)            7.4194    9.750344   0.945527\n",
       "RF(default)        7.42645    9.924838    0.94356\n",
       "KNN(default)         7.465   10.489528   0.936955\n",
       "LR(default)      10.426426   13.432264    0.89662\n",
       "GP(best)         10.426458   13.432451   0.896617\n",
       "LR-SGD(default)  10.429318   13.442404   0.896463\n",
       "Ridge(best)       10.43362   13.456077   0.896253\n",
       "Ridge(default)    10.43362   13.456077   0.896253\n",
       "SVR(best)        10.433912   13.576324    0.89439\n",
       "LR-SGD(best)      10.88055   14.037045   0.887101\n",
       "SVR(default)     12.209157     17.7752   0.818962\n",
       "NN(default)      19.542292   23.670468   0.678964\n",
       "GP(default)      26.807484  139.389439 -10.132677\n",
       "KRR(default)     41.903928   48.805811  -0.364844"
      ]
     },
     "metadata": {},
     "output_type": "display_data"
    }
   ],
   "source": [
    "plot_results()"
   ]
  },
  {
   "cell_type": "code",
   "execution_count": 47,
   "id": "3a9800ae",
   "metadata": {},
   "outputs": [],
   "source": [
    "bestModel = knnBest.best_estimator_"
   ]
  },
  {
   "cell_type": "code",
   "execution_count": 48,
   "id": "bb006781",
   "metadata": {},
   "outputs": [
    {
     "name": "stdout",
     "output_type": "stream",
     "text": [
      "MAE: 10.19\n",
      "RMSE: 13.42\n",
      "R^2: 0.89\n"
     ]
    }
   ],
   "source": [
    "y_pred = bestModel.predict(X_test)\n",
    "mae, rmse, r2 = compute_metrics(y_test, y_pred)\n",
    "print('MAE: {:.2f}'.format(mae))\n",
    "print('RMSE: {:.2f}'.format(rmse))\n",
    "print('R^2: {:.2f}'.format(r2))"
   ]
  },
  {
   "cell_type": "markdown",
   "id": "cccf1863",
   "metadata": {},
   "source": [
    "The mean absolute value error is $11.6$ which shows that our model is not accurate, but it can still make good predictions.\n",
    "\n",
    "The root mean square error is $230.2$ which shows that we have outliers.\n",
    "\n",
    "The $R^2$ score is $0.86$ which shows that our model fit the data well."
   ]
  },
  {
   "cell_type": "code",
   "execution_count": 49,
   "id": "3427b95b",
   "metadata": {},
   "outputs": [
    {
     "data": {
      "image/png": "[encoded data removed]",
      "text/plain": [
       "<Figure size 432x288 with 1 Axes>"
      ]
     },
     "metadata": {},
     "output_type": "display_data"
    }
   ],
   "source": [
    "hue = np.abs(y_pred - y_test)\n",
    "\n",
    "fig, ax = plt.subplots()\n",
    "_ = sns.scatterplot(x=y_pred, y=y_test, \n",
    "                hue=hue, legend=False, \n",
    "                palette=colormap, ax=ax)\n",
    "_ = sns.lineplot(x=[y_test.min(), y_test.max()], \n",
    "             y=[y_test.min(), y_test.max()], \n",
    "             ax = ax)\n",
    "_ = ax.set_xlabel('Predicted')\n",
    "_ = ax.set_ylabel('True')\n",
    "ax.set_facecolor('lavender')\n",
    "_ = plt.title('Evaluation: Predicted vs. True',fontsize=12, y=1.0)"
   ]
  }
 ],
 "metadata": {
  "authors": [
   {
    "name": "Arnau Abella"
   }
  ],
  "celltoolbar": "Tags",
  "kernelspec": {
   "display_name": "Python 3",
   "language": "python",
   "name": "python3"
  },
  "language_info": {
   "codemirror_mode": {
    "name": "ipython",
    "version": 3
   },
   "file_extension": ".py",
   "mimetype": "text/x-python",
   "name": "python",
   "nbconvert_exporter": "python",
   "pygments_lexer": "ipython3",
   "version": "3.9.5"
  },
  "title": "Calibration of Air Pollution Sensor Monitoring Networks"
 },
 "nbformat": 4,
 "nbformat_minor": 5
}
