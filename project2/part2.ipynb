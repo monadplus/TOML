{
 "cells": [
  {
   "cell_type": "markdown",
   "id": "9ee48a6f",
   "metadata": {},
   "source": [
    "# Part II: Calibration"
   ]
  },
  {
   "cell_type": "markdown",
   "id": "80d42ecb",
   "metadata": {},
   "source": [
    "## Introduction"
   ]
  },
  {
   "cell_type": "code",
   "execution_count": null,
   "id": "a9941063",
   "metadata": {},
   "outputs": [],
   "source": [
    "import numpy as np\n",
    "import pandas as pd\n",
    "import matplotlib.pyplot as plt\n",
    "import seaborn as sns\n",
    "import plotly.express as px\n",
    "import sklearn\n",
    "\n",
    "sns.set_style('whitegrid')\n",
    "colormap = sns.color_palette(\"Blues\", as_cmap=True)\n",
    "\n",
    "%matplotlib inline\n",
    "\n",
    "import warnings \n",
    "warnings.filterwarnings('ignore')"
   ]
  },
  {
   "cell_type": "markdown",
   "id": "843cf52d",
   "metadata": {},
   "source": [
    "The units of the columns are the following:\n",
    "\n",
    "- Temperature: °$C$\n",
    "- Humidity(Relative): $\\%$\n",
    "- Ozone: $K\\Omega$ \n",
    "- Target(Ozone): $\\mu gr/m^3$"
   ]
  },
  {
   "cell_type": "code",
   "execution_count": null,
   "id": "47861135",
   "metadata": {},
   "outputs": [],
   "source": [
    "df = pd.read_csv('data.csv', sep=';')"
   ]
  },
  {
   "cell_type": "code",
   "execution_count": null,
   "id": "d6b0e833",
   "metadata": {},
   "outputs": [],
   "source": [
    "df.head()"
   ]
  },
  {
   "cell_type": "code",
   "execution_count": null,
   "id": "dcd43aba",
   "metadata": {},
   "outputs": [],
   "source": [
    "print(f'Columns: {df.shape[1]}\\nRows: {df.shape[0]}')\n",
    "print('Columns types:')\n",
    "print(df.dtypes)"
   ]
  },
  {
   "cell_type": "markdown",
   "id": "88dde607",
   "metadata": {},
   "source": [
    "Fix date type and sort by date:"
   ]
  },
  {
   "cell_type": "code",
   "execution_count": null,
   "id": "32e7f6ca",
   "metadata": {},
   "outputs": [],
   "source": [
    "df['date'] = pd.to_datetime(df['date'])\n",
    "df.sort_values(by='date', ascending=True, inplace=True)\n",
    "df.reset_index(drop=True, inplace=True)\n",
    "df['date'][:5]"
   ]
  },
  {
   "cell_type": "markdown",
   "id": "0201206e",
   "metadata": {},
   "source": [
    "Fix columns' name and order:"
   ]
  },
  {
   "cell_type": "code",
   "execution_count": null,
   "id": "b734508e",
   "metadata": {},
   "outputs": [],
   "source": [
    "new_columns = {\n",
    "    'date': 'date',\n",
    "    'RefSt': 'target',\n",
    "    'Sensor_O3': 'ozone',\n",
    "    'Temp': 'temperature',\n",
    "    'RelHum': 'humidity'\n",
    "}\n",
    "df.rename(columns=new_columns, inplace=True)\n",
    "new_order = ['date', 'temperature', 'humidity', 'ozone', 'target']\n",
    "df = df.reindex(columns=new_order)\n",
    "df.columns"
   ]
  },
  {
   "cell_type": "code",
   "execution_count": null,
   "id": "a6010013",
   "metadata": {},
   "outputs": [],
   "source": [
    "df.describe().loc[['mean','std']]"
   ]
  }
 ],
 "metadata": {
  "kernelspec": {
   "display_name": "Python 3",
   "language": "python",
   "name": "python3"
  },
  "language_info": {
   "codemirror_mode": {
    "name": "ipython",
    "version": 3
   },
   "file_extension": ".py",
   "mimetype": "text/x-python",
   "name": "python",
   "nbconvert_exporter": "python",
   "pygments_lexer": "ipython3",
   "version": "3.9.5"
  }
 },
 "nbformat": 4,
 "nbformat_minor": 5
}
